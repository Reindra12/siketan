{
  "cells": [
    {
      "cell_type": "markdown",
      "metadata": {
        "id": "wH-p8stp1HQK"
      },
      "source": [
        "# Install Library\n"
      ]
    },
    {
      "cell_type": "code",
      "execution_count": 47,
      "metadata": {
        "colab": {
          "base_uri": "https://localhost:8080/"
        },
        "id": "yv0AvCrr1Kxq",
        "outputId": "62f78b7f-c966-446b-a5eb-8d7a49ffa7b8"
      },
      "outputs": [],
      "source": [
        "# !pip install matplotlib pandas nltk textblob \n",
        "# !pip3 install googletrans==3..1.0a0\n",
        "# !pip install textblob\n",
        "# !pip install tweet-preprocessor\n",
        "# !pip install sastrawi\n",
        "# !pip install emoji\n",
        "# !pip install PySastrawi\n",
        "# !pip install anvil-uplink"
      ]
    },
    {
      "cell_type": "markdown",
      "metadata": {
        "id": "Rs5OsgqU0yg7"
      },
      "source": [
        "\n",
        "# IMPORT LIBRARY\n"
      ]
    },
    {
      "cell_type": "code",
      "execution_count": 48,
      "metadata": {
        "colab": {
          "base_uri": "https://localhost:8080/"
        },
        "id": "5-Dv_-_V0qvL",
        "outputId": "4a85c86b-70cd-4d69-f46d-6acec2cec2d2"
      },
      "outputs": [
        {
          "name": "stderr",
          "output_type": "stream",
          "text": [
            "[nltk_data] Downloading package stopwords to\n",
            "[nltk_data]     /home/reindrairawan/nltk_data...\n",
            "[nltk_data]   Package stopwords is already up-to-date!\n",
            "[nltk_data] Downloading package punkt to\n",
            "[nltk_data]     /home/reindrairawan/nltk_data...\n",
            "[nltk_data]   Package punkt is already up-to-date!\n"
          ]
        },
        {
          "data": {
            "text/plain": [
              "True"
            ]
          },
          "execution_count": 48,
          "metadata": {},
          "output_type": "execute_result"
        }
      ],
      "source": [
        "import os\n",
        "import pandas as pd\n",
        "import numpy as np\n",
        "import tweepy\n",
        "import csv\n",
        "import re\n",
        "import string\n",
        "import preprocessor as p\n",
        "import nltk\n",
        "import datetime\n",
        "import emoji\n",
        "import seaborn as sns\n",
        "import matplotlib.pyplot as plt\n",
        "from textblob import TextBlob\n",
        "from preprocessor.api import clean, tokenize, parse\n",
        "from nltk.corpus import stopwords\n",
        "from nltk.tokenize import word_tokenize\n",
        "from datetime import timedelta\n",
        "from Sastrawi.Stemmer.StemmerFactory import StemmerFactory\n",
        "from sklearn.feature_extraction.text import CountVectorizer\n",
        "# from wordcloud import WordCloud, STOPWORDS, ImageColorGenerator\n",
        "from Sastrawi.StopWordRemover.StopWordRemoverFactory import StopWordRemoverFactory\n",
        "from flask import Flask, request, render_template\n",
        "import pickle\n",
        "\n",
        "import string\n",
        "import nltk\n",
        "nltk.download('stopwords')\n",
        "nltk.download('punkt')"
      ]
    },
    {
      "cell_type": "code",
      "execution_count": 49,
      "metadata": {},
      "outputs": [],
      "source": [
        "import anvil.server\n",
        "\n",
        "# anvil.server.connect(\"WGFNWSGM5OLR5XPQ6AHS3ZXT-YOHIYFGWQO73MFAQ\")\n",
        "anvil.server.connect(\"YWAJF7OMEN3PLYJ7AR63G5GN-HQYXRN4WGKGCFFZQ\")"
      ]
    },
    {
      "cell_type": "markdown",
      "metadata": {
        "id": "sZ_yun3d2UXl"
      },
      "source": [
        "# Crawling data tweet\n"
      ]
    },
    {
      "cell_type": "code",
      "execution_count": 50,
      "metadata": {
        "id": "VnpV_ZzEOV8T"
      },
      "outputs": [],
      "source": [
        "api_key = \"vdUPERoyGdSgyXkXO97M5fsdQ\"\n",
        "api_key_secret = \"Tib5ZDQ6OORdMo8lyTwteTRl1Fx8gEq9GCZURPuQbJerIqEZhC\"\n",
        "access_token = \"1519343221574615040-XUGEui3nxaeeaF6SlZdEOMPUazLzA3\"\n",
        "access_token_secret = \"nP4YleEq7qwc0myDhHI19Wy3sDGWVcAYd1ZfxJvuitz3l\""
      ]
    },
    {
      "cell_type": "code",
      "execution_count": 51,
      "metadata": {
        "id": "_w4BaWOoOYRR"
      },
      "outputs": [
        {
          "name": "stderr",
          "output_type": "stream",
          "text": [
            "/home/reindrairawan/.local/lib/python3.10/site-packages/tweepy/auth.py:120: DeprecationWarning: OAuthHandler is deprecated; use OAuth1UserHandler instead.\n",
            "  warnings.warn(\n"
          ]
        }
      ],
      "source": [
        "auth = tweepy.OAuthHandler(api_key, api_key_secret)\n",
        "auth.set_access_token(access_token, access_token_secret)\n",
        "api = tweepy.API(auth)"
      ]
    },
    {
      "cell_type": "code",
      "execution_count": 52,
      "metadata": {
        "id": "Q10BUkbB2Z0Y"
      },
      "outputs": [
        {
          "name": "stderr",
          "output_type": "stream",
          "text": [
            "/home/reindrairawan/.local/lib/python3.10/site-packages/anvil/_threaded_server.py:322: DeprecationWarning: notifyAll() is deprecated, use notify_all() instead\n",
            "  waiting_for_calls.notifyAll()\n",
            "/home/reindrairawan/.local/lib/python3.10/site-packages/anvil/_threaded_server.py:322: DeprecationWarning: notifyAll() is deprecated, use notify_all() instead\n",
            "  waiting_for_calls.notifyAll()\n",
            "/home/reindrairawan/.local/lib/python3.10/site-packages/anvil/_threaded_server.py:322: DeprecationWarning: notifyAll() is deprecated, use notify_all() instead\n",
            "  waiting_for_calls.notifyAll()\n",
            "/home/reindrairawan/.local/lib/python3.10/site-packages/anvil/_threaded_server.py:322: DeprecationWarning: notifyAll() is deprecated, use notify_all() instead\n",
            "  waiting_for_calls.notifyAll()\n",
            "/home/reindrairawan/.local/lib/python3.10/site-packages/anvil/_threaded_server.py:322: DeprecationWarning: notifyAll() is deprecated, use notify_all() instead\n",
            "  waiting_for_calls.notifyAll()\n",
            "/home/reindrairawan/.local/lib/python3.10/site-packages/anvil/_threaded_server.py:322: DeprecationWarning: notifyAll() is deprecated, use notify_all() instead\n",
            "  waiting_for_calls.notifyAll()\n",
            "/home/reindrairawan/.local/lib/python3.10/site-packages/anvil/_threaded_server.py:322: DeprecationWarning: notifyAll() is deprecated, use notify_all() instead\n",
            "  waiting_for_calls.notifyAll()\n",
            "/home/reindrairawan/.local/lib/python3.10/site-packages/anvil/_threaded_server.py:322: DeprecationWarning: notifyAll() is deprecated, use notify_all() instead\n",
            "  waiting_for_calls.notifyAll()\n",
            "/home/reindrairawan/.local/lib/python3.10/site-packages/anvil/_threaded_server.py:322: DeprecationWarning: notifyAll() is deprecated, use notify_all() instead\n",
            "  waiting_for_calls.notifyAll()\n",
            "/home/reindrairawan/.local/lib/python3.10/site-packages/anvil/_threaded_server.py:322: DeprecationWarning: notifyAll() is deprecated, use notify_all() instead\n",
            "  waiting_for_calls.notifyAll()\n",
            "/home/reindrairawan/.local/lib/python3.10/site-packages/anvil/_threaded_server.py:322: DeprecationWarning: notifyAll() is deprecated, use notify_all() instead\n",
            "  waiting_for_calls.notifyAll()\n",
            "/home/reindrairawan/.local/lib/python3.10/site-packages/anvil/_threaded_server.py:322: DeprecationWarning: notifyAll() is deprecated, use notify_all() instead\n",
            "  waiting_for_calls.notifyAll()\n",
            "/home/reindrairawan/.local/lib/python3.10/site-packages/anvil/_threaded_server.py:322: DeprecationWarning: notifyAll() is deprecated, use notify_all() instead\n",
            "  waiting_for_calls.notifyAll()\n",
            "/home/reindrairawan/.local/lib/python3.10/site-packages/anvil/_threaded_server.py:322: DeprecationWarning: notifyAll() is deprecated, use notify_all() instead\n",
            "  waiting_for_calls.notifyAll()\n",
            "/home/reindrairawan/.local/lib/python3.10/site-packages/anvil/_threaded_server.py:322: DeprecationWarning: notifyAll() is deprecated, use notify_all() instead\n",
            "  waiting_for_calls.notifyAll()\n",
            "/home/reindrairawan/.local/lib/python3.10/site-packages/anvil/_threaded_server.py:322: DeprecationWarning: notifyAll() is deprecated, use notify_all() instead\n",
            "  waiting_for_calls.notifyAll()\n",
            "/home/reindrairawan/.local/lib/python3.10/site-packages/anvil/_threaded_server.py:322: DeprecationWarning: notifyAll() is deprecated, use notify_all() instead\n",
            "  waiting_for_calls.notifyAll()\n",
            "/home/reindrairawan/.local/lib/python3.10/site-packages/anvil/_threaded_server.py:322: DeprecationWarning: notifyAll() is deprecated, use notify_all() instead\n",
            "  waiting_for_calls.notifyAll()\n",
            "/home/reindrairawan/.local/lib/python3.10/site-packages/anvil/_threaded_server.py:322: DeprecationWarning: notifyAll() is deprecated, use notify_all() instead\n",
            "  waiting_for_calls.notifyAll()\n",
            "/home/reindrairawan/.local/lib/python3.10/site-packages/anvil/_threaded_server.py:322: DeprecationWarning: notifyAll() is deprecated, use notify_all() instead\n",
            "  waiting_for_calls.notifyAll()\n",
            "/home/reindrairawan/.local/lib/python3.10/site-packages/anvil/_threaded_server.py:322: DeprecationWarning: notifyAll() is deprecated, use notify_all() instead\n",
            "  waiting_for_calls.notifyAll()\n",
            "/home/reindrairawan/.local/lib/python3.10/site-packages/anvil/_threaded_server.py:322: DeprecationWarning: notifyAll() is deprecated, use notify_all() instead\n",
            "  waiting_for_calls.notifyAll()\n",
            "/home/reindrairawan/.local/lib/python3.10/site-packages/anvil/_threaded_server.py:322: DeprecationWarning: notifyAll() is deprecated, use notify_all() instead\n",
            "  waiting_for_calls.notifyAll()\n",
            "/home/reindrairawan/.local/lib/python3.10/site-packages/anvil/_threaded_server.py:322: DeprecationWarning: notifyAll() is deprecated, use notify_all() instead\n",
            "  waiting_for_calls.notifyAll()\n",
            "/home/reindrairawan/.local/lib/python3.10/site-packages/anvil/_threaded_server.py:322: DeprecationWarning: notifyAll() is deprecated, use notify_all() instead\n",
            "  waiting_for_calls.notifyAll()\n",
            "/home/reindrairawan/.local/lib/python3.10/site-packages/anvil/_threaded_server.py:322: DeprecationWarning: notifyAll() is deprecated, use notify_all() instead\n",
            "  waiting_for_calls.notifyAll()\n",
            "/home/reindrairawan/.local/lib/python3.10/site-packages/anvil/_threaded_server.py:322: DeprecationWarning: notifyAll() is deprecated, use notify_all() instead\n",
            "  waiting_for_calls.notifyAll()\n",
            "/home/reindrairawan/.local/lib/python3.10/site-packages/anvil/_threaded_server.py:322: DeprecationWarning: notifyAll() is deprecated, use notify_all() instead\n",
            "  waiting_for_calls.notifyAll()\n",
            "/home/reindrairawan/.local/lib/python3.10/site-packages/anvil/_threaded_server.py:322: DeprecationWarning: notifyAll() is deprecated, use notify_all() instead\n",
            "  waiting_for_calls.notifyAll()\n",
            "/home/reindrairawan/.local/lib/python3.10/site-packages/anvil/_threaded_server.py:322: DeprecationWarning: notifyAll() is deprecated, use notify_all() instead\n",
            "  waiting_for_calls.notifyAll()\n",
            "/home/reindrairawan/.local/lib/python3.10/site-packages/anvil/_threaded_server.py:322: DeprecationWarning: notifyAll() is deprecated, use notify_all() instead\n",
            "  waiting_for_calls.notifyAll()\n",
            "/home/reindrairawan/.local/lib/python3.10/site-packages/anvil/_threaded_server.py:322: DeprecationWarning: notifyAll() is deprecated, use notify_all() instead\n",
            "  waiting_for_calls.notifyAll()\n",
            "/home/reindrairawan/.local/lib/python3.10/site-packages/anvil/_threaded_server.py:322: DeprecationWarning: notifyAll() is deprecated, use notify_all() instead\n",
            "  waiting_for_calls.notifyAll()\n",
            "/home/reindrairawan/.local/lib/python3.10/site-packages/anvil/_threaded_server.py:322: DeprecationWarning: notifyAll() is deprecated, use notify_all() instead\n",
            "  waiting_for_calls.notifyAll()\n",
            "/home/reindrairawan/.local/lib/python3.10/site-packages/anvil/_threaded_server.py:322: DeprecationWarning: notifyAll() is deprecated, use notify_all() instead\n",
            "  waiting_for_calls.notifyAll()\n",
            "/home/reindrairawan/.local/lib/python3.10/site-packages/anvil/_threaded_server.py:322: DeprecationWarning: notifyAll() is deprecated, use notify_all() instead\n",
            "  waiting_for_calls.notifyAll()\n",
            "/home/reindrairawan/.local/lib/python3.10/site-packages/anvil/_threaded_server.py:322: DeprecationWarning: notifyAll() is deprecated, use notify_all() instead\n",
            "  waiting_for_calls.notifyAll()\n",
            "/home/reindrairawan/.local/lib/python3.10/site-packages/anvil/_threaded_server.py:322: DeprecationWarning: notifyAll() is deprecated, use notify_all() instead\n",
            "  waiting_for_calls.notifyAll()\n",
            "/home/reindrairawan/.local/lib/python3.10/site-packages/anvil/_threaded_server.py:322: DeprecationWarning: notifyAll() is deprecated, use notify_all() instead\n",
            "  waiting_for_calls.notifyAll()\n"
          ]
        }
      ],
      "source": [
        "# onsumer_key  = ''\n",
        "# consumer_secret = ''\n",
        "# auth = tweepy.AppAuthHandler('', '')\n",
        "\n",
        "#auth = tweepy.OAuthHandler(consumer_key, consumer_secret)\n",
        "# api = tweepy.API(auth)\n",
        "\n",
        "topic = 'Kebakaran Hutan'\n",
        "\n",
        "data = []\n",
        "for tweet in tweepy.Cursor(api.search_tweets, q=topic).items(500):\n",
        "    status = api.get_status(tweet.id, tweet_mode='extended')\n",
        "    try:\n",
        "        text = status.retweeted_status.full_text\n",
        "    except AttributeError:\n",
        "        text = status.full_text\n",
        "    data.append([text, 1])\n",
        "\n",
        "with open('dataset.csv', 'w') as csvfile:\n",
        "    wr = csv.writer(csvfile)\n",
        "    for d in data:\n",
        "        wr.writerow(d)"
      ]
    },
    {
      "cell_type": "code",
      "execution_count": 96,
      "metadata": {
        "id": "1Hhgavbf32dK"
      },
      "outputs": [
        {
          "data": {
            "text/html": [
              "<div>\n",
              "<style scoped>\n",
              "    .dataframe tbody tr th:only-of-type {\n",
              "        vertical-align: middle;\n",
              "    }\n",
              "\n",
              "    .dataframe tbody tr th {\n",
              "        vertical-align: top;\n",
              "    }\n",
              "\n",
              "    .dataframe thead th {\n",
              "        text-align: right;\n",
              "    }\n",
              "</style>\n",
              "<table border=\"1\" class=\"dataframe\">\n",
              "  <thead>\n",
              "    <tr style=\"text-align: right;\">\n",
              "      <th></th>\n",
              "      <th>text</th>\n",
              "      <th>label</th>\n",
              "    </tr>\n",
              "  </thead>\n",
              "  <tbody>\n",
              "    <tr>\n",
              "      <th>0</th>\n",
              "      <td>@SantorinisSun Anomali iklim berdampak tidak b...</td>\n",
              "      <td>1</td>\n",
              "    </tr>\n",
              "    <tr>\n",
              "      <th>1</th>\n",
              "      <td>BUMI KIAN PANAS?\\n\\nKalau korang selalu ikuti ...</td>\n",
              "      <td>1</td>\n",
              "    </tr>\n",
              "    <tr>\n",
              "      <th>2</th>\n",
              "      <td>#BHdunia Suhu di Sepanyol cecah 37 darjah Cels...</td>\n",
              "      <td>1</td>\n",
              "    </tr>\n",
              "    <tr>\n",
              "      <th>3</th>\n",
              "      <td>BUMI KIAN PANAS?\\n\\nKalau korang selalu ikuti ...</td>\n",
              "      <td>1</td>\n",
              "    </tr>\n",
              "    <tr>\n",
              "      <th>4</th>\n",
              "      <td>BUMI KIAN PANAS?\\n\\nKalau korang selalu ikuti ...</td>\n",
              "      <td>1</td>\n",
              "    </tr>\n",
              "    <tr>\n",
              "      <th>...</th>\n",
              "      <td>...</td>\n",
              "      <td>...</td>\n",
              "    </tr>\n",
              "    <tr>\n",
              "      <th>495</th>\n",
              "      <td>FLASH SALE 😍 AKU SUKA SEDEKAH. *Satu set isi 5...</td>\n",
              "      <td>1</td>\n",
              "    </tr>\n",
              "    <tr>\n",
              "      <th>496</th>\n",
              "      <td>FLASH SALE 😍 AKU SUKA SEDEKAH. *Satu set isi 5...</td>\n",
              "      <td>1</td>\n",
              "    </tr>\n",
              "    <tr>\n",
              "      <th>497</th>\n",
              "      <td>FLASH SALE 😍 AKU SUKA SEDEKAH. *Satu set isi 5...</td>\n",
              "      <td>1</td>\n",
              "    </tr>\n",
              "    <tr>\n",
              "      <th>498</th>\n",
              "      <td>FLASH SALE 😍 AKU SUKA SEDEKAH. *Satu set isi 5...</td>\n",
              "      <td>1</td>\n",
              "    </tr>\n",
              "    <tr>\n",
              "      <th>499</th>\n",
              "      <td>FLASH SALE 😍 AKU SUKA SEDEKAH. *Satu set isi 5...</td>\n",
              "      <td>1</td>\n",
              "    </tr>\n",
              "  </tbody>\n",
              "</table>\n",
              "<p>500 rows × 2 columns</p>\n",
              "</div>"
            ],
            "text/plain": [
              "                                                  text  label\n",
              "0    @SantorinisSun Anomali iklim berdampak tidak b...      1\n",
              "1    BUMI KIAN PANAS?\\n\\nKalau korang selalu ikuti ...      1\n",
              "2    #BHdunia Suhu di Sepanyol cecah 37 darjah Cels...      1\n",
              "3    BUMI KIAN PANAS?\\n\\nKalau korang selalu ikuti ...      1\n",
              "4    BUMI KIAN PANAS?\\n\\nKalau korang selalu ikuti ...      1\n",
              "..                                                 ...    ...\n",
              "495  FLASH SALE 😍 AKU SUKA SEDEKAH. *Satu set isi 5...      1\n",
              "496  FLASH SALE 😍 AKU SUKA SEDEKAH. *Satu set isi 5...      1\n",
              "497  FLASH SALE 😍 AKU SUKA SEDEKAH. *Satu set isi 5...      1\n",
              "498  FLASH SALE 😍 AKU SUKA SEDEKAH. *Satu set isi 5...      1\n",
              "499  FLASH SALE 😍 AKU SUKA SEDEKAH. *Satu set isi 5...      1\n",
              "\n",
              "[500 rows x 2 columns]"
            ]
          },
          "execution_count": 96,
          "metadata": {},
          "output_type": "execute_result"
        }
      ],
      "source": [
        "data = pd.read_csv(\"dataset.csv\",\n",
        "                 names = [ \"text\", \"label\" ])\n",
        "data"
      ]
    },
    {
      "cell_type": "markdown",
      "metadata": {
        "id": "ucWynzPI5fg9"
      },
      "source": [
        "# Preprocessing\n"
      ]
    },
    {
      "cell_type": "code",
      "execution_count": 97,
      "metadata": {
        "colab": {
          "base_uri": "https://localhost:8080/",
          "height": 531
        },
        "id": "Acte5LKc5je1",
        "outputId": "a3c0364f-aa38-4e9c-9e2e-8739504a706f"
      },
      "outputs": [
        {
          "data": {
            "text/html": [
              "<div>\n",
              "<style scoped>\n",
              "    .dataframe tbody tr th:only-of-type {\n",
              "        vertical-align: middle;\n",
              "    }\n",
              "\n",
              "    .dataframe tbody tr th {\n",
              "        vertical-align: top;\n",
              "    }\n",
              "\n",
              "    .dataframe thead th {\n",
              "        text-align: right;\n",
              "    }\n",
              "</style>\n",
              "<table border=\"1\" class=\"dataframe\">\n",
              "  <thead>\n",
              "    <tr style=\"text-align: right;\">\n",
              "      <th></th>\n",
              "      <th>text</th>\n",
              "      <th>label</th>\n",
              "      <th>processed</th>\n",
              "    </tr>\n",
              "  </thead>\n",
              "  <tbody>\n",
              "    <tr>\n",
              "      <th>0</th>\n",
              "      <td>@SantorinisSun Anomali iklim berdampak tidak b...</td>\n",
              "      <td>1</td>\n",
              "      <td>santorinissun anomali iklim berdampak tidak ba...</td>\n",
              "    </tr>\n",
              "    <tr>\n",
              "      <th>1</th>\n",
              "      <td>BUMI KIAN PANAS?\\n\\nKalau korang selalu ikuti ...</td>\n",
              "      <td>1</td>\n",
              "      <td>bumi kian panas\\n\\nkalau korang selalu ikuti s...</td>\n",
              "    </tr>\n",
              "    <tr>\n",
              "      <th>2</th>\n",
              "      <td>#BHdunia Suhu di Sepanyol cecah 37 darjah Cels...</td>\n",
              "      <td>1</td>\n",
              "      <td>bhdunia suhu di sepanyol cecah  darjah celsius...</td>\n",
              "    </tr>\n",
              "    <tr>\n",
              "      <th>3</th>\n",
              "      <td>BUMI KIAN PANAS?\\n\\nKalau korang selalu ikuti ...</td>\n",
              "      <td>1</td>\n",
              "      <td>bumi kian panas\\n\\nkalau korang selalu ikuti s...</td>\n",
              "    </tr>\n",
              "    <tr>\n",
              "      <th>4</th>\n",
              "      <td>BUMI KIAN PANAS?\\n\\nKalau korang selalu ikuti ...</td>\n",
              "      <td>1</td>\n",
              "      <td>bumi kian panas\\n\\nkalau korang selalu ikuti s...</td>\n",
              "    </tr>\n",
              "  </tbody>\n",
              "</table>\n",
              "</div>"
            ],
            "text/plain": [
              "                                                text  label  \\\n",
              "0  @SantorinisSun Anomali iklim berdampak tidak b...      1   \n",
              "1  BUMI KIAN PANAS?\\n\\nKalau korang selalu ikuti ...      1   \n",
              "2  #BHdunia Suhu di Sepanyol cecah 37 darjah Cels...      1   \n",
              "3  BUMI KIAN PANAS?\\n\\nKalau korang selalu ikuti ...      1   \n",
              "4  BUMI KIAN PANAS?\\n\\nKalau korang selalu ikuti ...      1   \n",
              "\n",
              "                                           processed  \n",
              "0  santorinissun anomali iklim berdampak tidak ba...  \n",
              "1  bumi kian panas\\n\\nkalau korang selalu ikuti s...  \n",
              "2  bhdunia suhu di sepanyol cecah  darjah celsius...  \n",
              "3  bumi kian panas\\n\\nkalau korang selalu ikuti s...  \n",
              "4  bumi kian panas\\n\\nkalau korang selalu ikuti s...  "
            ]
          },
          "execution_count": 97,
          "metadata": {},
          "output_type": "execute_result"
        }
      ],
      "source": [
        "def casefolding(text):\n",
        "    text = text.lower() # merubah bentuk menjadi lower case\n",
        "    text = re.sub(r'\\d+', '', text) # menghapus angka\n",
        "    text = re.sub(r'[^\\w\\s]','',text) # menghapus karakter tanda baca\n",
        "    text = text.strip()\n",
        "    return text\n",
        "\n",
        "\n",
        "data['processed'] = data['text'].apply(lambda x: casefolding(x))\n",
        "data.head()"
      ]
    },
    {
      "cell_type": "code",
      "execution_count": 100,
      "metadata": {
        "colab": {
          "base_uri": "https://localhost:8080/",
          "height": 531
        },
        "id": "cZjtxXqn6S4C",
        "outputId": "7510785c-6c9c-4281-84bc-423bb5e3e95e"
      },
      "outputs": [],
      "source": [
        "# menormalkan text\n",
        "\n",
        "pathdata = \"/media/reindrairawan/New Volume/REPOSITORY/PYTHON/ProjectKuliah/DataScience/SentimenAnalisisKebakaranHutan/data/\"\n",
        "\n",
        "key_norm = pd.read_csv('data/clean_data.csv')\n",
        "\n",
        "def text_normalize(text):\n",
        "    text = ' '.join([key_norm[key_norm[\"singkat\"] == word]['hasil'].values[0] if (key_norm[\"singkat\"] == word).any() else word for word in text.split()])\n",
        "    text = str.lower(text)\n",
        "    return text\n",
        "\n",
        "# data['processed'] = data['text'].apply(lambda x: text_normalize(x))\n",
        "# data.head()"
      ]
    },
    {
      "cell_type": "code",
      "execution_count": 101,
      "metadata": {
        "colab": {
          "base_uri": "https://localhost:8080/",
          "height": 531
        },
        "id": "uJbLFmne8Jok",
        "outputId": "ecbfc2d6-3f42-4cc3-8231-26062382a412"
      },
      "outputs": [
        {
          "data": {
            "text/html": [
              "<div>\n",
              "<style scoped>\n",
              "    .dataframe tbody tr th:only-of-type {\n",
              "        vertical-align: middle;\n",
              "    }\n",
              "\n",
              "    .dataframe tbody tr th {\n",
              "        vertical-align: top;\n",
              "    }\n",
              "\n",
              "    .dataframe thead th {\n",
              "        text-align: right;\n",
              "    }\n",
              "</style>\n",
              "<table border=\"1\" class=\"dataframe\">\n",
              "  <thead>\n",
              "    <tr style=\"text-align: right;\">\n",
              "      <th></th>\n",
              "      <th>text</th>\n",
              "      <th>label</th>\n",
              "      <th>processed</th>\n",
              "    </tr>\n",
              "  </thead>\n",
              "  <tbody>\n",
              "    <tr>\n",
              "      <th>0</th>\n",
              "      <td>@SantorinisSun Anomali iklim berdampak tidak b...</td>\n",
              "      <td>1</td>\n",
              "      <td>@SantorinisSun Anomali iklim berdampak bangsa ...</td>\n",
              "    </tr>\n",
              "    <tr>\n",
              "      <th>1</th>\n",
              "      <td>BUMI KIAN PANAS?\\n\\nKalau korang selalu ikuti ...</td>\n",
              "      <td>1</td>\n",
              "      <td>BUMI KIAN PANAS? Kalau korang ikuti siaran ber...</td>\n",
              "    </tr>\n",
              "    <tr>\n",
              "      <th>2</th>\n",
              "      <td>#BHdunia Suhu di Sepanyol cecah 37 darjah Cels...</td>\n",
              "      <td>1</td>\n",
              "      <td>#BHdunia Suhu Sepanyol cecah 37 darjah Celsius...</td>\n",
              "    </tr>\n",
              "    <tr>\n",
              "      <th>3</th>\n",
              "      <td>BUMI KIAN PANAS?\\n\\nKalau korang selalu ikuti ...</td>\n",
              "      <td>1</td>\n",
              "      <td>BUMI KIAN PANAS? Kalau korang ikuti siaran ber...</td>\n",
              "    </tr>\n",
              "    <tr>\n",
              "      <th>4</th>\n",
              "      <td>BUMI KIAN PANAS?\\n\\nKalau korang selalu ikuti ...</td>\n",
              "      <td>1</td>\n",
              "      <td>BUMI KIAN PANAS? Kalau korang ikuti siaran ber...</td>\n",
              "    </tr>\n",
              "  </tbody>\n",
              "</table>\n",
              "</div>"
            ],
            "text/plain": [
              "                                                text  label  \\\n",
              "0  @SantorinisSun Anomali iklim berdampak tidak b...      1   \n",
              "1  BUMI KIAN PANAS?\\n\\nKalau korang selalu ikuti ...      1   \n",
              "2  #BHdunia Suhu di Sepanyol cecah 37 darjah Cels...      1   \n",
              "3  BUMI KIAN PANAS?\\n\\nKalau korang selalu ikuti ...      1   \n",
              "4  BUMI KIAN PANAS?\\n\\nKalau korang selalu ikuti ...      1   \n",
              "\n",
              "                                           processed  \n",
              "0  @SantorinisSun Anomali iklim berdampak bangsa ...  \n",
              "1  BUMI KIAN PANAS? Kalau korang ikuti siaran ber...  \n",
              "2  #BHdunia Suhu Sepanyol cecah 37 darjah Celsius...  \n",
              "3  BUMI KIAN PANAS? Kalau korang ikuti siaran ber...  \n",
              "4  BUMI KIAN PANAS? Kalau korang ikuti siaran ber...  "
            ]
          },
          "execution_count": 101,
          "metadata": {},
          "output_type": "execute_result"
        }
      ],
      "source": [
        "# filtering menggukan nltk\n",
        "from nltk.tokenize import sent_tokenize, word_tokenize\n",
        "from nltk.corpus import stopwords\n",
        "\n",
        "stop_factory = stopwords.words('indonesian')\n",
        "more_stopword = ['daring', 'online', 'pd']\n",
        "\n",
        "def remove_stop_words(text):\n",
        "    sw = stop_factory + more_stopword\n",
        "    clean_words = []\n",
        "    text = text.split()\n",
        "    for word in text:\n",
        "        if word not in sw:\n",
        "            clean_words.append(word)\n",
        "    return \" \".join(clean_words)\n",
        "\n",
        "\n",
        "data['processed'] = data['text'].apply(lambda x: remove_stop_words(x))\n",
        "data.head()"
      ]
    },
    {
      "cell_type": "code",
      "execution_count": 102,
      "metadata": {
        "colab": {
          "base_uri": "https://localhost:8080/",
          "height": 600
        },
        "id": "xvFREeNj81Zk",
        "outputId": "4cb82628-4ece-414e-bf62-de927ef75dfa"
      },
      "outputs": [
        {
          "data": {
            "text/html": [
              "<div>\n",
              "<style scoped>\n",
              "    .dataframe tbody tr th:only-of-type {\n",
              "        vertical-align: middle;\n",
              "    }\n",
              "\n",
              "    .dataframe tbody tr th {\n",
              "        vertical-align: top;\n",
              "    }\n",
              "\n",
              "    .dataframe thead th {\n",
              "        text-align: right;\n",
              "    }\n",
              "</style>\n",
              "<table border=\"1\" class=\"dataframe\">\n",
              "  <thead>\n",
              "    <tr style=\"text-align: right;\">\n",
              "      <th></th>\n",
              "      <th>text</th>\n",
              "      <th>label</th>\n",
              "      <th>processed</th>\n",
              "    </tr>\n",
              "  </thead>\n",
              "  <tbody>\n",
              "    <tr>\n",
              "      <th>0</th>\n",
              "      <td>@SantorinisSun Anomali iklim berdampak tidak b...</td>\n",
              "      <td>1</td>\n",
              "      <td>santorinissun anomali iklim dampak tidak baik ...</td>\n",
              "    </tr>\n",
              "    <tr>\n",
              "      <th>1</th>\n",
              "      <td>BUMI KIAN PANAS?\\n\\nKalau korang selalu ikuti ...</td>\n",
              "      <td>1</td>\n",
              "      <td>bumi kian panas kalau korang selalu ikut siar ...</td>\n",
              "    </tr>\n",
              "    <tr>\n",
              "      <th>2</th>\n",
              "      <td>#BHdunia Suhu di Sepanyol cecah 37 darjah Cels...</td>\n",
              "      <td>1</td>\n",
              "      <td>bhdunia suhu di sepanyol cecah 37 darjah celsi...</td>\n",
              "    </tr>\n",
              "    <tr>\n",
              "      <th>3</th>\n",
              "      <td>BUMI KIAN PANAS?\\n\\nKalau korang selalu ikuti ...</td>\n",
              "      <td>1</td>\n",
              "      <td>bumi kian panas kalau korang selalu ikut siar ...</td>\n",
              "    </tr>\n",
              "    <tr>\n",
              "      <th>4</th>\n",
              "      <td>BUMI KIAN PANAS?\\n\\nKalau korang selalu ikuti ...</td>\n",
              "      <td>1</td>\n",
              "      <td>bumi kian panas kalau korang selalu ikut siar ...</td>\n",
              "    </tr>\n",
              "  </tbody>\n",
              "</table>\n",
              "</div>"
            ],
            "text/plain": [
              "                                                text  label  \\\n",
              "0  @SantorinisSun Anomali iklim berdampak tidak b...      1   \n",
              "1  BUMI KIAN PANAS?\\n\\nKalau korang selalu ikuti ...      1   \n",
              "2  #BHdunia Suhu di Sepanyol cecah 37 darjah Cels...      1   \n",
              "3  BUMI KIAN PANAS?\\n\\nKalau korang selalu ikuti ...      1   \n",
              "4  BUMI KIAN PANAS?\\n\\nKalau korang selalu ikuti ...      1   \n",
              "\n",
              "                                           processed  \n",
              "0  santorinissun anomali iklim dampak tidak baik ...  \n",
              "1  bumi kian panas kalau korang selalu ikut siar ...  \n",
              "2  bhdunia suhu di sepanyol cecah 37 darjah celsi...  \n",
              "3  bumi kian panas kalau korang selalu ikut siar ...  \n",
              "4  bumi kian panas kalau korang selalu ikut siar ...  "
            ]
          },
          "execution_count": 102,
          "metadata": {},
          "output_type": "execute_result"
        }
      ],
      "source": [
        "# stemming menggunakan sastrawi \n",
        "from Sastrawi.Stemmer.StemmerFactory import StemmerFactory\n",
        "\n",
        "factory = StemmerFactory()\n",
        "stemmer = factory.create_stemmer()\n",
        "\n",
        "def stemming(text):\n",
        "    text = stemmer.stem(text)\n",
        "    return text\n",
        "\n",
        " \n",
        "data['processed'] = data['text'].apply(lambda x: stemming(x))\n",
        "data.head()  "
      ]
    },
    {
      "cell_type": "code",
      "execution_count": 103,
      "metadata": {
        "id": "Zqz9YdBx8-sq"
      },
      "outputs": [],
      "source": [
        "# Text Preprocessing Pipeline\n",
        "def data_process(text):\n",
        "    text = casefolding(text)\n",
        "    # text = text_normalize(text)\n",
        "    text = remove_stop_words(text)\n",
        "    text = stemming(text)\n",
        "    return text"
      ]
    },
    {
      "cell_type": "code",
      "execution_count": 104,
      "metadata": {
        "colab": {
          "base_uri": "https://localhost:8080/"
        },
        "id": "MBi73C269D9h",
        "outputId": "6bf7eea0-4f4c-4de2-d80f-c92e00b37890"
      },
      "outputs": [
        {
          "name": "stdout",
          "output_type": "stream",
          "text": [
            "cleaning dataset elapsed time: 1.1181814670562744 \n",
            "\n"
          ]
        }
      ],
      "source": [
        "import time\n",
        "\n",
        "t1 = time.time()\n",
        "data['text'] = data['text'].apply(data_process)\n",
        "print('cleaning dataset elapsed time:', time.time() - t1, '\\n')"
      ]
    },
    {
      "cell_type": "code",
      "execution_count": 123,
      "metadata": {
        "colab": {
          "base_uri": "https://localhost:8080/",
          "height": 1000
        },
        "id": "wyXHti_W9yud",
        "outputId": "7a5abdab-5b99-4ddb-e833-12fb4976e268"
      },
      "outputs": [
        {
          "data": {
            "text/html": [
              "<div>\n",
              "<style scoped>\n",
              "    .dataframe tbody tr th:only-of-type {\n",
              "        vertical-align: middle;\n",
              "    }\n",
              "\n",
              "    .dataframe tbody tr th {\n",
              "        vertical-align: top;\n",
              "    }\n",
              "\n",
              "    .dataframe thead th {\n",
              "        text-align: right;\n",
              "    }\n",
              "</style>\n",
              "<table border=\"1\" class=\"dataframe\">\n",
              "  <thead>\n",
              "    <tr style=\"text-align: right;\">\n",
              "      <th></th>\n",
              "      <th>Unnamed: 0</th>\n",
              "      <th>text</th>\n",
              "      <th>neg</th>\n",
              "      <th>neu</th>\n",
              "      <th>pos</th>\n",
              "      <th>compound</th>\n",
              "      <th>comp_score</th>\n",
              "    </tr>\n",
              "  </thead>\n",
              "  <tbody>\n",
              "    <tr>\n",
              "      <th>0</th>\n",
              "      <td>0</td>\n",
              "      <td>The earth is getting hotter if you always foll...</td>\n",
              "      <td>0.000</td>\n",
              "      <td>0.955</td>\n",
              "      <td>0.045</td>\n",
              "      <td>0.9776</td>\n",
              "      <td>pos</td>\n",
              "    </tr>\n",
              "    <tr>\n",
              "      <th>1</th>\n",
              "      <td>1</td>\n",
              "      <td>burn forest in northern morocco https t co cby...</td>\n",
              "      <td>0.000</td>\n",
              "      <td>1.000</td>\n",
              "      <td>0.000</td>\n",
              "      <td>0.0000</td>\n",
              "      <td>neu</td>\n",
              "    </tr>\n",
              "    <tr>\n",
              "      <th>2</th>\n",
              "      <td>2</td>\n",
              "      <td>forest fires spread in france 480 people evacu...</td>\n",
              "      <td>0.000</td>\n",
              "      <td>1.000</td>\n",
              "      <td>0.000</td>\n",
              "      <td>0.0000</td>\n",
              "      <td>neu</td>\n",
              "    </tr>\n",
              "    <tr>\n",
              "      <th>3</th>\n",
              "      <td>3</td>\n",
              "      <td>https tco jgdymoippn</td>\n",
              "      <td>0.000</td>\n",
              "      <td>1.000</td>\n",
              "      <td>0.000</td>\n",
              "      <td>0.0000</td>\n",
              "      <td>neu</td>\n",
              "    </tr>\n",
              "    <tr>\n",
              "      <th>4</th>\n",
              "      <td>4</td>\n",
              "      <td>I hope the people who belong to the sun will a...</td>\n",
              "      <td>0.000</td>\n",
              "      <td>0.903</td>\n",
              "      <td>0.097</td>\n",
              "      <td>0.4404</td>\n",
              "      <td>pos</td>\n",
              "    </tr>\n",
              "    <tr>\n",
              "      <th>5</th>\n",
              "      <td>5</td>\n",
              "      <td>This activity that took two days 13 14 07 2022...</td>\n",
              "      <td>0.000</td>\n",
              "      <td>1.000</td>\n",
              "      <td>0.000</td>\n",
              "      <td>0.0000</td>\n",
              "      <td>neu</td>\n",
              "    </tr>\n",
              "    <tr>\n",
              "      <th>6</th>\n",
              "      <td>6</td>\n",
              "      <td>klhk then directorate of forest and land fire ...</td>\n",
              "      <td>0.050</td>\n",
              "      <td>0.826</td>\n",
              "      <td>0.124</td>\n",
              "      <td>0.5574</td>\n",
              "      <td>pos</td>\n",
              "    </tr>\n",
              "    <tr>\n",
              "      <th>7</th>\n",
              "      <td>7</td>\n",
              "      <td>There are many strong indications that forest ...</td>\n",
              "      <td>0.043</td>\n",
              "      <td>0.820</td>\n",
              "      <td>0.137</td>\n",
              "      <td>0.6249</td>\n",
              "      <td>pos</td>\n",
              "    </tr>\n",
              "  </tbody>\n",
              "</table>\n",
              "</div>"
            ],
            "text/plain": [
              "   Unnamed: 0                                               text    neg  \\\n",
              "0           0  The earth is getting hotter if you always foll...  0.000   \n",
              "1           1  burn forest in northern morocco https t co cby...  0.000   \n",
              "2           2  forest fires spread in france 480 people evacu...  0.000   \n",
              "3           3                               https tco jgdymoippn  0.000   \n",
              "4           4  I hope the people who belong to the sun will a...  0.000   \n",
              "5           5  This activity that took two days 13 14 07 2022...  0.000   \n",
              "6           6  klhk then directorate of forest and land fire ...  0.050   \n",
              "7           7  There are many strong indications that forest ...  0.043   \n",
              "\n",
              "     neu    pos  compound comp_score  \n",
              "0  0.955  0.045    0.9776        pos  \n",
              "1  1.000  0.000    0.0000        neu  \n",
              "2  1.000  0.000    0.0000        neu  \n",
              "3  1.000  0.000    0.0000        neu  \n",
              "4  0.903  0.097    0.4404        pos  \n",
              "5  1.000  0.000    0.0000        neu  \n",
              "6  0.826  0.124    0.5574        pos  \n",
              "7  0.820  0.137    0.6249        pos  "
            ]
          },
          "execution_count": 123,
          "metadata": {},
          "output_type": "execute_result"
        }
      ],
      "source": [
        "data.to_csv(pathdata+'/clean_data.csv', encoding='utf-8')\n",
        "data"
      ]
    },
    {
      "cell_type": "code",
      "execution_count": 124,
      "metadata": {
        "id": "F5igAO6QC4Op"
      },
      "outputs": [],
      "source": [
        "data.to_csv('tweet_bersih.csv',encoding='utf8',index=False)"
      ]
    },
    {
      "cell_type": "markdown",
      "metadata": {
        "id": "r4xGxhsBAvbS"
      },
      "source": [
        "# Translate to english"
      ]
    },
    {
      "cell_type": "code",
      "execution_count": 126,
      "metadata": {
        "colab": {
          "base_uri": "https://localhost:8080/",
          "height": 1000
        },
        "id": "eXfMKFwmJfyL",
        "outputId": "91e21eff-141a-4b41-e815-dab5269d2653"
      },
      "outputs": [
        {
          "data": {
            "text/html": [
              "<div>\n",
              "<style scoped>\n",
              "    .dataframe tbody tr th:only-of-type {\n",
              "        vertical-align: middle;\n",
              "    }\n",
              "\n",
              "    .dataframe tbody tr th {\n",
              "        vertical-align: top;\n",
              "    }\n",
              "\n",
              "    .dataframe thead th {\n",
              "        text-align: right;\n",
              "    }\n",
              "</style>\n",
              "<table border=\"1\" class=\"dataframe\">\n",
              "  <thead>\n",
              "    <tr style=\"text-align: right;\">\n",
              "      <th></th>\n",
              "      <th>text</th>\n",
              "      <th>label</th>\n",
              "      <th>processed</th>\n",
              "    </tr>\n",
              "  </thead>\n",
              "  <tbody>\n",
              "    <tr>\n",
              "      <th>0</th>\n",
              "      <td>bumi kian panas korang ikut siar berita dunia ...</td>\n",
              "      <td>1</td>\n",
              "      <td>bumi kian panas kalau korang selalu ikut siar ...</td>\n",
              "    </tr>\n",
              "    <tr>\n",
              "      <th>1</th>\n",
              "      <td>bumi kian panas korang ikut siar berita dunia ...</td>\n",
              "      <td>1</td>\n",
              "      <td>bumi kian panas kalau korang selalu ikut siar ...</td>\n",
              "    </tr>\n",
              "    <tr>\n",
              "      <th>2</th>\n",
              "      <td>bumi kian panas korang ikut siar berita dunia ...</td>\n",
              "      <td>1</td>\n",
              "      <td>bumi kian panas kalau korang selalu ikut siar ...</td>\n",
              "    </tr>\n",
              "    <tr>\n",
              "      <th>3</th>\n",
              "      <td>bakar hutan maroko utara httpstcocbyzjmragh</td>\n",
              "      <td>1</td>\n",
              "      <td>bakar hutan di maroko utara https t co cbyzjmragh</td>\n",
              "    </tr>\n",
              "    <tr>\n",
              "      <th>4</th>\n",
              "      <td>bumi kian panas korang ikut siar berita dunia ...</td>\n",
              "      <td>1</td>\n",
              "      <td>bumi kian panas kalau korang selalu ikut siar ...</td>\n",
              "    </tr>\n",
              "    <tr>\n",
              "      <th>5</th>\n",
              "      <td>bakar hutan maroko utara httpstcocbyzjmragh</td>\n",
              "      <td>1</td>\n",
              "      <td>bakar hutan di maroko utara https t co cbyzjmragh</td>\n",
              "    </tr>\n",
              "    <tr>\n",
              "      <th>6</th>\n",
              "      <td>bumi kian panas korang ikut siar berita dunia ...</td>\n",
              "      <td>1</td>\n",
              "      <td>bumi kian panas kalau korang selalu ikut siar ...</td>\n",
              "    </tr>\n",
              "    <tr>\n",
              "      <th>7</th>\n",
              "      <td>bumi kian panas korang ikut siar berita dunia ...</td>\n",
              "      <td>1</td>\n",
              "      <td>bumi kian panas kalau korang selalu ikut siar ...</td>\n",
              "    </tr>\n",
              "    <tr>\n",
              "      <th>8</th>\n",
              "      <td>bumi kian panas korang ikut siar berita dunia ...</td>\n",
              "      <td>1</td>\n",
              "      <td>bumi kian panas kalau korang selalu ikut siar ...</td>\n",
              "    </tr>\n",
              "    <tr>\n",
              "      <th>9</th>\n",
              "      <td>bakar hutan sebar prancis orang evakuasi https...</td>\n",
              "      <td>1</td>\n",
              "      <td>bakar hutan sebar di prancis 480 orang evakuas...</td>\n",
              "    </tr>\n",
              "  </tbody>\n",
              "</table>\n",
              "</div>"
            ],
            "text/plain": [
              "                                                text  label  \\\n",
              "0  bumi kian panas korang ikut siar berita dunia ...      1   \n",
              "1  bumi kian panas korang ikut siar berita dunia ...      1   \n",
              "2  bumi kian panas korang ikut siar berita dunia ...      1   \n",
              "3        bakar hutan maroko utara httpstcocbyzjmragh      1   \n",
              "4  bumi kian panas korang ikut siar berita dunia ...      1   \n",
              "5        bakar hutan maroko utara httpstcocbyzjmragh      1   \n",
              "6  bumi kian panas korang ikut siar berita dunia ...      1   \n",
              "7  bumi kian panas korang ikut siar berita dunia ...      1   \n",
              "8  bumi kian panas korang ikut siar berita dunia ...      1   \n",
              "9  bakar hutan sebar prancis orang evakuasi https...      1   \n",
              "\n",
              "                                           processed  \n",
              "0  bumi kian panas kalau korang selalu ikut siar ...  \n",
              "1  bumi kian panas kalau korang selalu ikut siar ...  \n",
              "2  bumi kian panas kalau korang selalu ikut siar ...  \n",
              "3  bakar hutan di maroko utara https t co cbyzjmragh  \n",
              "4  bumi kian panas kalau korang selalu ikut siar ...  \n",
              "5  bakar hutan di maroko utara https t co cbyzjmragh  \n",
              "6  bumi kian panas kalau korang selalu ikut siar ...  \n",
              "7  bumi kian panas kalau korang selalu ikut siar ...  \n",
              "8  bumi kian panas kalau korang selalu ikut siar ...  \n",
              "9  bakar hutan sebar di prancis 480 orang evakuas...  "
            ]
          },
          "execution_count": 126,
          "metadata": {},
          "output_type": "execute_result"
        }
      ],
      "source": [
        "databersih = pd.read_csv('data/tweet_bersih.csv')\n",
        "databersih.head(10)"
      ]
    },
    {
      "cell_type": "code",
      "execution_count": 127,
      "metadata": {
        "colab": {
          "base_uri": "https://localhost:8080/",
          "height": 1000
        },
        "id": "9nVO07BIA7_T",
        "outputId": "6ec4e421-a618-4f18-c6b7-82f762390691"
      },
      "outputs": [
        {
          "name": "stderr",
          "output_type": "stream",
          "text": [
            "/home/reindrairawan/.local/lib/python3.10/site-packages/httpx/_config.py:156: DeprecationWarning: ssl.PROTOCOL_TLS is deprecated\n",
            "  context = ssl.SSLContext(ssl.PROTOCOL_TLS)\n",
            "/home/reindrairawan/.local/lib/python3.10/site-packages/httpx/_config.py:159: DeprecationWarning: ssl.OP_NO_SSL*/ssl.OP_NO_TLS* options are deprecated\n",
            "  context.options |= ssl.OP_NO_TLSv1\n",
            "/home/reindrairawan/.local/lib/python3.10/site-packages/httpx/_config.py:160: DeprecationWarning: ssl.OP_NO_SSL*/ssl.OP_NO_TLS* options are deprecated\n",
            "  context.options |= ssl.OP_NO_TLSv1_1\n"
          ]
        },
        {
          "data": {
            "text/html": [
              "<div>\n",
              "<style scoped>\n",
              "    .dataframe tbody tr th:only-of-type {\n",
              "        vertical-align: middle;\n",
              "    }\n",
              "\n",
              "    .dataframe tbody tr th {\n",
              "        vertical-align: top;\n",
              "    }\n",
              "\n",
              "    .dataframe thead th {\n",
              "        text-align: right;\n",
              "    }\n",
              "</style>\n",
              "<table border=\"1\" class=\"dataframe\">\n",
              "  <thead>\n",
              "    <tr style=\"text-align: right;\">\n",
              "      <th></th>\n",
              "      <th>text</th>\n",
              "      <th>label</th>\n",
              "      <th>processed</th>\n",
              "      <th>english</th>\n",
              "    </tr>\n",
              "  </thead>\n",
              "  <tbody>\n",
              "    <tr>\n",
              "      <th>0</th>\n",
              "      <td>bumi kian panas korang ikut siar berita dunia ...</td>\n",
              "      <td>1</td>\n",
              "      <td>bumi kian panas kalau korang selalu ikut siar ...</td>\n",
              "      <td>The earth is getting hotter if you always foll...</td>\n",
              "    </tr>\n",
              "    <tr>\n",
              "      <th>1</th>\n",
              "      <td>bumi kian panas korang ikut siar berita dunia ...</td>\n",
              "      <td>1</td>\n",
              "      <td>bumi kian panas kalau korang selalu ikut siar ...</td>\n",
              "      <td>The earth is getting hotter if you always foll...</td>\n",
              "    </tr>\n",
              "    <tr>\n",
              "      <th>2</th>\n",
              "      <td>bumi kian panas korang ikut siar berita dunia ...</td>\n",
              "      <td>1</td>\n",
              "      <td>bumi kian panas kalau korang selalu ikut siar ...</td>\n",
              "      <td>The earth is getting hotter if you always foll...</td>\n",
              "    </tr>\n",
              "    <tr>\n",
              "      <th>3</th>\n",
              "      <td>bakar hutan maroko utara httpstcocbyzjmragh</td>\n",
              "      <td>1</td>\n",
              "      <td>bakar hutan di maroko utara https t co cbyzjmragh</td>\n",
              "      <td>burn forest in northern morocco https t co cby...</td>\n",
              "    </tr>\n",
              "    <tr>\n",
              "      <th>4</th>\n",
              "      <td>bumi kian panas korang ikut siar berita dunia ...</td>\n",
              "      <td>1</td>\n",
              "      <td>bumi kian panas kalau korang selalu ikut siar ...</td>\n",
              "      <td>The earth is getting hotter if you always foll...</td>\n",
              "    </tr>\n",
              "    <tr>\n",
              "      <th>5</th>\n",
              "      <td>bakar hutan maroko utara httpstcocbyzjmragh</td>\n",
              "      <td>1</td>\n",
              "      <td>bakar hutan di maroko utara https t co cbyzjmragh</td>\n",
              "      <td>burn forest in northern morocco https t co cby...</td>\n",
              "    </tr>\n",
              "    <tr>\n",
              "      <th>6</th>\n",
              "      <td>bumi kian panas korang ikut siar berita dunia ...</td>\n",
              "      <td>1</td>\n",
              "      <td>bumi kian panas kalau korang selalu ikut siar ...</td>\n",
              "      <td>The earth is getting hotter if you always foll...</td>\n",
              "    </tr>\n",
              "    <tr>\n",
              "      <th>7</th>\n",
              "      <td>bumi kian panas korang ikut siar berita dunia ...</td>\n",
              "      <td>1</td>\n",
              "      <td>bumi kian panas kalau korang selalu ikut siar ...</td>\n",
              "      <td>The earth is getting hotter if you always foll...</td>\n",
              "    </tr>\n",
              "    <tr>\n",
              "      <th>8</th>\n",
              "      <td>bumi kian panas korang ikut siar berita dunia ...</td>\n",
              "      <td>1</td>\n",
              "      <td>bumi kian panas kalau korang selalu ikut siar ...</td>\n",
              "      <td>The earth is getting hotter if you always foll...</td>\n",
              "    </tr>\n",
              "    <tr>\n",
              "      <th>9</th>\n",
              "      <td>bakar hutan sebar prancis orang evakuasi https...</td>\n",
              "      <td>1</td>\n",
              "      <td>bakar hutan sebar di prancis 480 orang evakuas...</td>\n",
              "      <td>forest fires spread in france 480 people evacu...</td>\n",
              "    </tr>\n",
              "    <tr>\n",
              "      <th>10</th>\n",
              "      <td>httpstcojgdymoippn</td>\n",
              "      <td>1</td>\n",
              "      <td>https t co jgdymoippn</td>\n",
              "      <td>https tco jgdymoippn</td>\n",
              "    </tr>\n",
              "    <tr>\n",
              "      <th>11</th>\n",
              "      <td>harap masyarakat milik mata cahari tambah tani...</td>\n",
              "      <td>1</td>\n",
              "      <td>harap masyarakat milik mata cahari tambah sela...</td>\n",
              "      <td>I hope the people who belong to the sun will a...</td>\n",
              "    </tr>\n",
              "    <tr>\n",
              "      <th>12</th>\n",
              "      <td>giat laksana bagi lokasi desa bumi harap desa ...</td>\n",
              "      <td>1</td>\n",
              "      <td>giat yang laksana lama dua hari 13 14 07 2022 ...</td>\n",
              "      <td>This activity that took two days 13 14 07 2022...</td>\n",
              "    </tr>\n",
              "    <tr>\n",
              "      <th>13</th>\n",
              "      <td>klhk direktorat kendali bakar hutan lahan ditj...</td>\n",
              "      <td>1</td>\n",
              "      <td>klhk lalu direktorat kendali bakar hutan dan l...</td>\n",
              "      <td>klhk then directorate of forest and land fire ...</td>\n",
              "    </tr>\n",
              "    <tr>\n",
              "      <th>14</th>\n",
              "      <td>bumi kian panas korang ikut siar berita dunia ...</td>\n",
              "      <td>1</td>\n",
              "      <td>bumi kian panas kalau korang selalu ikut siar ...</td>\n",
              "      <td>The earth is getting hotter if you always foll...</td>\n",
              "    </tr>\n",
              "    <tr>\n",
              "      <th>15</th>\n",
              "      <td>bumi kian panas korang ikut siar berita dunia ...</td>\n",
              "      <td>1</td>\n",
              "      <td>bumi kian panas kalau korang selalu ikut siar ...</td>\n",
              "      <td>The earth is getting hotter if you always foll...</td>\n",
              "    </tr>\n",
              "    <tr>\n",
              "      <th>16</th>\n",
              "      <td>indikasi kuat bakar hutan lahan area konsesi p...</td>\n",
              "      <td>1</td>\n",
              "      <td>banyak indikasi yang kuat bahwa bakar hutan da...</td>\n",
              "      <td>There are many strong indications that forest ...</td>\n",
              "    </tr>\n",
              "    <tr>\n",
              "      <th>17</th>\n",
              "      <td>bumi kian panas korang ikut siar berita dunia ...</td>\n",
              "      <td>1</td>\n",
              "      <td>bumi kian panas kalau korang selalu ikut siar ...</td>\n",
              "      <td>The earth is getting hotter if you always foll...</td>\n",
              "    </tr>\n",
              "    <tr>\n",
              "      <th>18</th>\n",
              "      <td>bumi kian panas korang ikut siar berita dunia ...</td>\n",
              "      <td>1</td>\n",
              "      <td>bumi kian panas kalau korang selalu ikut siar ...</td>\n",
              "      <td>The earth is getting hotter if you always foll...</td>\n",
              "    </tr>\n",
              "    <tr>\n",
              "      <th>19</th>\n",
              "      <td>bumi kian panas korang ikut siar berita dunia ...</td>\n",
              "      <td>1</td>\n",
              "      <td>bumi kian panas kalau korang selalu ikut siar ...</td>\n",
              "      <td>The earth is getting hotter if you always foll...</td>\n",
              "    </tr>\n",
              "  </tbody>\n",
              "</table>\n",
              "</div>"
            ],
            "text/plain": [
              "                                                 text  label  \\\n",
              "0   bumi kian panas korang ikut siar berita dunia ...      1   \n",
              "1   bumi kian panas korang ikut siar berita dunia ...      1   \n",
              "2   bumi kian panas korang ikut siar berita dunia ...      1   \n",
              "3         bakar hutan maroko utara httpstcocbyzjmragh      1   \n",
              "4   bumi kian panas korang ikut siar berita dunia ...      1   \n",
              "5         bakar hutan maroko utara httpstcocbyzjmragh      1   \n",
              "6   bumi kian panas korang ikut siar berita dunia ...      1   \n",
              "7   bumi kian panas korang ikut siar berita dunia ...      1   \n",
              "8   bumi kian panas korang ikut siar berita dunia ...      1   \n",
              "9   bakar hutan sebar prancis orang evakuasi https...      1   \n",
              "10                                 httpstcojgdymoippn      1   \n",
              "11  harap masyarakat milik mata cahari tambah tani...      1   \n",
              "12  giat laksana bagi lokasi desa bumi harap desa ...      1   \n",
              "13  klhk direktorat kendali bakar hutan lahan ditj...      1   \n",
              "14  bumi kian panas korang ikut siar berita dunia ...      1   \n",
              "15  bumi kian panas korang ikut siar berita dunia ...      1   \n",
              "16  indikasi kuat bakar hutan lahan area konsesi p...      1   \n",
              "17  bumi kian panas korang ikut siar berita dunia ...      1   \n",
              "18  bumi kian panas korang ikut siar berita dunia ...      1   \n",
              "19  bumi kian panas korang ikut siar berita dunia ...      1   \n",
              "\n",
              "                                            processed  \\\n",
              "0   bumi kian panas kalau korang selalu ikut siar ...   \n",
              "1   bumi kian panas kalau korang selalu ikut siar ...   \n",
              "2   bumi kian panas kalau korang selalu ikut siar ...   \n",
              "3   bakar hutan di maroko utara https t co cbyzjmragh   \n",
              "4   bumi kian panas kalau korang selalu ikut siar ...   \n",
              "5   bakar hutan di maroko utara https t co cbyzjmragh   \n",
              "6   bumi kian panas kalau korang selalu ikut siar ...   \n",
              "7   bumi kian panas kalau korang selalu ikut siar ...   \n",
              "8   bumi kian panas kalau korang selalu ikut siar ...   \n",
              "9   bakar hutan sebar di prancis 480 orang evakuas...   \n",
              "10                              https t co jgdymoippn   \n",
              "11  harap masyarakat milik mata cahari tambah sela...   \n",
              "12  giat yang laksana lama dua hari 13 14 07 2022 ...   \n",
              "13  klhk lalu direktorat kendali bakar hutan dan l...   \n",
              "14  bumi kian panas kalau korang selalu ikut siar ...   \n",
              "15  bumi kian panas kalau korang selalu ikut siar ...   \n",
              "16  banyak indikasi yang kuat bahwa bakar hutan da...   \n",
              "17  bumi kian panas kalau korang selalu ikut siar ...   \n",
              "18  bumi kian panas kalau korang selalu ikut siar ...   \n",
              "19  bumi kian panas kalau korang selalu ikut siar ...   \n",
              "\n",
              "                                              english  \n",
              "0   The earth is getting hotter if you always foll...  \n",
              "1   The earth is getting hotter if you always foll...  \n",
              "2   The earth is getting hotter if you always foll...  \n",
              "3   burn forest in northern morocco https t co cby...  \n",
              "4   The earth is getting hotter if you always foll...  \n",
              "5   burn forest in northern morocco https t co cby...  \n",
              "6   The earth is getting hotter if you always foll...  \n",
              "7   The earth is getting hotter if you always foll...  \n",
              "8   The earth is getting hotter if you always foll...  \n",
              "9   forest fires spread in france 480 people evacu...  \n",
              "10                               https tco jgdymoippn  \n",
              "11  I hope the people who belong to the sun will a...  \n",
              "12  This activity that took two days 13 14 07 2022...  \n",
              "13  klhk then directorate of forest and land fire ...  \n",
              "14  The earth is getting hotter if you always foll...  \n",
              "15  The earth is getting hotter if you always foll...  \n",
              "16  There are many strong indications that forest ...  \n",
              "17  The earth is getting hotter if you always foll...  \n",
              "18  The earth is getting hotter if you always foll...  \n",
              "19  The earth is getting hotter if you always foll...  "
            ]
          },
          "execution_count": 127,
          "metadata": {},
          "output_type": "execute_result"
        }
      ],
      "source": [
        "from googletrans import Translator\n",
        "translator = Translator()\n",
        "\n",
        "databersih['processed']\n",
        "databersih['english'] = databersih['processed'].apply(translator.translate, src='id', dest='en').apply(getattr, args=('text',))\n",
        "databersih"
      ]
    },
    {
      "cell_type": "code",
      "execution_count": 128,
      "metadata": {
        "colab": {
          "base_uri": "https://localhost:8080/"
        },
        "id": "IHvavmAmTdtF",
        "outputId": "76ed7e5b-6bfb-4760-99ce-3cc739bcda9c"
      },
      "outputs": [
        {
          "data": {
            "text/plain": [
              "0     The earth is getting hotter if you always foll...\n",
              "1     The earth is getting hotter if you always foll...\n",
              "2     The earth is getting hotter if you always foll...\n",
              "3     burn forest in northern morocco https t co cby...\n",
              "4     The earth is getting hotter if you always foll...\n",
              "5     burn forest in northern morocco https t co cby...\n",
              "6     The earth is getting hotter if you always foll...\n",
              "7     The earth is getting hotter if you always foll...\n",
              "8     The earth is getting hotter if you always foll...\n",
              "9     forest fires spread in france 480 people evacu...\n",
              "10                                 https tco jgdymoippn\n",
              "11    I hope the people who belong to the sun will a...\n",
              "12    This activity that took two days 13 14 07 2022...\n",
              "13    klhk then directorate of forest and land fire ...\n",
              "14    The earth is getting hotter if you always foll...\n",
              "15    The earth is getting hotter if you always foll...\n",
              "16    There are many strong indications that forest ...\n",
              "17    The earth is getting hotter if you always foll...\n",
              "18    The earth is getting hotter if you always foll...\n",
              "19    The earth is getting hotter if you always foll...\n",
              "Name: english, dtype: object"
            ]
          },
          "execution_count": 128,
          "metadata": {},
          "output_type": "execute_result"
        }
      ],
      "source": [
        "dataenglish = databersih['english']\n",
        "dataenglish"
      ]
    },
    {
      "cell_type": "code",
      "execution_count": null,
      "metadata": {
        "id": "UC9M1bLcVFYt"
      },
      "outputs": [],
      "source": [
        "dataenglish.to_csv('datasetenglish.csv',encoding='utf8',index=False)"
      ]
    },
    {
      "cell_type": "markdown",
      "metadata": {
        "id": "AeuYjBdAVS9m"
      },
      "source": [
        "# Sentimen menggunakan textblob "
      ]
    },
    {
      "cell_type": "code",
      "execution_count": null,
      "metadata": {
        "colab": {
          "base_uri": "https://localhost:8080/",
          "height": 618
        },
        "id": "6xde0gi0VVvg",
        "outputId": "196bcbf6-ac39-4ad7-e890-be433ad0c1bb"
      },
      "outputs": [
        {
          "data": {
            "text/html": [
              "<div>\n",
              "<style scoped>\n",
              "    .dataframe tbody tr th:only-of-type {\n",
              "        vertical-align: middle;\n",
              "    }\n",
              "\n",
              "    .dataframe tbody tr th {\n",
              "        vertical-align: top;\n",
              "    }\n",
              "\n",
              "    .dataframe thead th {\n",
              "        text-align: right;\n",
              "    }\n",
              "</style>\n",
              "<table border=\"1\" class=\"dataframe\">\n",
              "  <thead>\n",
              "    <tr style=\"text-align: right;\">\n",
              "      <th></th>\n",
              "      <th>english</th>\n",
              "    </tr>\n",
              "  </thead>\n",
              "  <tbody>\n",
              "    <tr>\n",
              "      <th>0</th>\n",
              "      <td>The earth is getting hotter if you always foll...</td>\n",
              "    </tr>\n",
              "    <tr>\n",
              "      <th>1</th>\n",
              "      <td>The earth is getting hotter if you always foll...</td>\n",
              "    </tr>\n",
              "    <tr>\n",
              "      <th>2</th>\n",
              "      <td>The earth is getting hotter if you always foll...</td>\n",
              "    </tr>\n",
              "    <tr>\n",
              "      <th>3</th>\n",
              "      <td>burn forest in northern morocco https t co cby...</td>\n",
              "    </tr>\n",
              "    <tr>\n",
              "      <th>4</th>\n",
              "      <td>The earth is getting hotter if you always foll...</td>\n",
              "    </tr>\n",
              "  </tbody>\n",
              "</table>\n",
              "</div>"
            ],
            "text/plain": [
              "                                             english\n",
              "0  The earth is getting hotter if you always foll...\n",
              "1  The earth is getting hotter if you always foll...\n",
              "2  The earth is getting hotter if you always foll...\n",
              "3  burn forest in northern morocco https t co cby...\n",
              "4  The earth is getting hotter if you always foll..."
            ]
          },
          "execution_count": 66,
          "metadata": {},
          "output_type": "execute_result"
        }
      ],
      "source": [
        "df = pd.read_csv('datasetenglish.csv')\n",
        "df.head()\n"
      ]
    },
    {
      "cell_type": "code",
      "execution_count": null,
      "metadata": {
        "colab": {
          "base_uri": "https://localhost:8080/",
          "height": 1000
        },
        "id": "rswh-0S7bBdl",
        "outputId": "60f5684e-1fe9-42d6-b452-050ff183121c"
      },
      "outputs": [
        {
          "data": {
            "text/html": [
              "<div>\n",
              "<style scoped>\n",
              "    .dataframe tbody tr th:only-of-type {\n",
              "        vertical-align: middle;\n",
              "    }\n",
              "\n",
              "    .dataframe tbody tr th {\n",
              "        vertical-align: top;\n",
              "    }\n",
              "\n",
              "    .dataframe thead th {\n",
              "        text-align: right;\n",
              "    }\n",
              "</style>\n",
              "<table border=\"1\" class=\"dataframe\">\n",
              "  <thead>\n",
              "    <tr style=\"text-align: right;\">\n",
              "      <th></th>\n",
              "      <th>english</th>\n",
              "      <th>sentiment</th>\n",
              "    </tr>\n",
              "  </thead>\n",
              "  <tbody>\n",
              "    <tr>\n",
              "      <th>0</th>\n",
              "      <td>The earth is getting hotter if you always foll...</td>\n",
              "      <td>(-0.049999999999999996, 0.5499999999999999)</td>\n",
              "    </tr>\n",
              "    <tr>\n",
              "      <th>1</th>\n",
              "      <td>The earth is getting hotter if you always foll...</td>\n",
              "      <td>(-0.049999999999999996, 0.5499999999999999)</td>\n",
              "    </tr>\n",
              "    <tr>\n",
              "      <th>2</th>\n",
              "      <td>The earth is getting hotter if you always foll...</td>\n",
              "      <td>(-0.049999999999999996, 0.5499999999999999)</td>\n",
              "    </tr>\n",
              "    <tr>\n",
              "      <th>3</th>\n",
              "      <td>burn forest in northern morocco https t co cby...</td>\n",
              "      <td>(0.0, 0.0)</td>\n",
              "    </tr>\n",
              "    <tr>\n",
              "      <th>4</th>\n",
              "      <td>The earth is getting hotter if you always foll...</td>\n",
              "      <td>(-0.049999999999999996, 0.5499999999999999)</td>\n",
              "    </tr>\n",
              "    <tr>\n",
              "      <th>5</th>\n",
              "      <td>burn forest in northern morocco https t co cby...</td>\n",
              "      <td>(0.0, 0.0)</td>\n",
              "    </tr>\n",
              "    <tr>\n",
              "      <th>6</th>\n",
              "      <td>The earth is getting hotter if you always foll...</td>\n",
              "      <td>(-0.049999999999999996, 0.5499999999999999)</td>\n",
              "    </tr>\n",
              "    <tr>\n",
              "      <th>7</th>\n",
              "      <td>The earth is getting hotter if you always foll...</td>\n",
              "      <td>(-0.049999999999999996, 0.5499999999999999)</td>\n",
              "    </tr>\n",
              "    <tr>\n",
              "      <th>8</th>\n",
              "      <td>The earth is getting hotter if you always foll...</td>\n",
              "      <td>(-0.049999999999999996, 0.5499999999999999)</td>\n",
              "    </tr>\n",
              "    <tr>\n",
              "      <th>9</th>\n",
              "      <td>forest fires spread in france 480 people evacu...</td>\n",
              "      <td>(0.0, 0.0)</td>\n",
              "    </tr>\n",
              "    <tr>\n",
              "      <th>10</th>\n",
              "      <td>https tco jgdymoippn</td>\n",
              "      <td>(0.0, 0.0)</td>\n",
              "    </tr>\n",
              "    <tr>\n",
              "      <th>11</th>\n",
              "      <td>I hope the people who belong to the sun will a...</td>\n",
              "      <td>(0.3, 0.35)</td>\n",
              "    </tr>\n",
              "    <tr>\n",
              "      <th>12</th>\n",
              "      <td>This activity that took two days 13 14 07 2022...</td>\n",
              "      <td>(0.0, 0.0)</td>\n",
              "    </tr>\n",
              "    <tr>\n",
              "      <th>13</th>\n",
              "      <td>klhk then directorate of forest and land fire ...</td>\n",
              "      <td>(0.0875, 0.48958333333333337)</td>\n",
              "    </tr>\n",
              "    <tr>\n",
              "      <th>14</th>\n",
              "      <td>The earth is getting hotter if you always foll...</td>\n",
              "      <td>(-0.049999999999999996, 0.5499999999999999)</td>\n",
              "    </tr>\n",
              "    <tr>\n",
              "      <th>15</th>\n",
              "      <td>The earth is getting hotter if you always foll...</td>\n",
              "      <td>(-0.049999999999999996, 0.5499999999999999)</td>\n",
              "    </tr>\n",
              "    <tr>\n",
              "      <th>16</th>\n",
              "      <td>There are many strong indications that forest ...</td>\n",
              "      <td>(0.3111111111111111, 0.41111111111111115)</td>\n",
              "    </tr>\n",
              "    <tr>\n",
              "      <th>17</th>\n",
              "      <td>The earth is getting hotter if you always foll...</td>\n",
              "      <td>(-0.049999999999999996, 0.5499999999999999)</td>\n",
              "    </tr>\n",
              "    <tr>\n",
              "      <th>18</th>\n",
              "      <td>The earth is getting hotter if you always foll...</td>\n",
              "      <td>(-0.049999999999999996, 0.5499999999999999)</td>\n",
              "    </tr>\n",
              "    <tr>\n",
              "      <th>19</th>\n",
              "      <td>The earth is getting hotter if you always foll...</td>\n",
              "      <td>(-0.049999999999999996, 0.5499999999999999)</td>\n",
              "    </tr>\n",
              "  </tbody>\n",
              "</table>\n",
              "</div>"
            ],
            "text/plain": [
              "                                              english  \\\n",
              "0   The earth is getting hotter if you always foll...   \n",
              "1   The earth is getting hotter if you always foll...   \n",
              "2   The earth is getting hotter if you always foll...   \n",
              "3   burn forest in northern morocco https t co cby...   \n",
              "4   The earth is getting hotter if you always foll...   \n",
              "5   burn forest in northern morocco https t co cby...   \n",
              "6   The earth is getting hotter if you always foll...   \n",
              "7   The earth is getting hotter if you always foll...   \n",
              "8   The earth is getting hotter if you always foll...   \n",
              "9   forest fires spread in france 480 people evacu...   \n",
              "10                               https tco jgdymoippn   \n",
              "11  I hope the people who belong to the sun will a...   \n",
              "12  This activity that took two days 13 14 07 2022...   \n",
              "13  klhk then directorate of forest and land fire ...   \n",
              "14  The earth is getting hotter if you always foll...   \n",
              "15  The earth is getting hotter if you always foll...   \n",
              "16  There are many strong indications that forest ...   \n",
              "17  The earth is getting hotter if you always foll...   \n",
              "18  The earth is getting hotter if you always foll...   \n",
              "19  The earth is getting hotter if you always foll...   \n",
              "\n",
              "                                      sentiment  \n",
              "0   (-0.049999999999999996, 0.5499999999999999)  \n",
              "1   (-0.049999999999999996, 0.5499999999999999)  \n",
              "2   (-0.049999999999999996, 0.5499999999999999)  \n",
              "3                                    (0.0, 0.0)  \n",
              "4   (-0.049999999999999996, 0.5499999999999999)  \n",
              "5                                    (0.0, 0.0)  \n",
              "6   (-0.049999999999999996, 0.5499999999999999)  \n",
              "7   (-0.049999999999999996, 0.5499999999999999)  \n",
              "8   (-0.049999999999999996, 0.5499999999999999)  \n",
              "9                                    (0.0, 0.0)  \n",
              "10                                   (0.0, 0.0)  \n",
              "11                                  (0.3, 0.35)  \n",
              "12                                   (0.0, 0.0)  \n",
              "13                (0.0875, 0.48958333333333337)  \n",
              "14  (-0.049999999999999996, 0.5499999999999999)  \n",
              "15  (-0.049999999999999996, 0.5499999999999999)  \n",
              "16    (0.3111111111111111, 0.41111111111111115)  \n",
              "17  (-0.049999999999999996, 0.5499999999999999)  \n",
              "18  (-0.049999999999999996, 0.5499999999999999)  \n",
              "19  (-0.049999999999999996, 0.5499999999999999)  "
            ]
          },
          "execution_count": 67,
          "metadata": {},
          "output_type": "execute_result"
        }
      ],
      "source": [
        "\n",
        "df['sentiment'] = df['english'].apply(lambda tweet: TextBlob(tweet).sentiment)\n",
        "df"
      ]
    },
    {
      "cell_type": "markdown",
      "metadata": {
        "id": "LnmwIlyjk9sC"
      },
      "source": [
        "# Sentimen menggunakan SentimentIntensityAnalyzer"
      ]
    },
    {
      "cell_type": "code",
      "execution_count": null,
      "metadata": {
        "colab": {
          "base_uri": "https://localhost:8080/",
          "height": 618
        },
        "id": "TDM4Eo0-M6A6",
        "outputId": "e63944e9-52f3-43ae-f256-b74188da9a2b"
      },
      "outputs": [
        {
          "data": {
            "text/html": [
              "<div>\n",
              "<style scoped>\n",
              "    .dataframe tbody tr th:only-of-type {\n",
              "        vertical-align: middle;\n",
              "    }\n",
              "\n",
              "    .dataframe tbody tr th {\n",
              "        vertical-align: top;\n",
              "    }\n",
              "\n",
              "    .dataframe thead th {\n",
              "        text-align: right;\n",
              "    }\n",
              "</style>\n",
              "<table border=\"1\" class=\"dataframe\">\n",
              "  <thead>\n",
              "    <tr style=\"text-align: right;\">\n",
              "      <th></th>\n",
              "      <th>english</th>\n",
              "    </tr>\n",
              "  </thead>\n",
              "  <tbody>\n",
              "    <tr>\n",
              "      <th>0</th>\n",
              "      <td>The earth is getting hotter if you always foll...</td>\n",
              "    </tr>\n",
              "    <tr>\n",
              "      <th>1</th>\n",
              "      <td>The earth is getting hotter if you always foll...</td>\n",
              "    </tr>\n",
              "    <tr>\n",
              "      <th>2</th>\n",
              "      <td>The earth is getting hotter if you always foll...</td>\n",
              "    </tr>\n",
              "    <tr>\n",
              "      <th>3</th>\n",
              "      <td>burn forest in northern morocco https t co cby...</td>\n",
              "    </tr>\n",
              "    <tr>\n",
              "      <th>4</th>\n",
              "      <td>The earth is getting hotter if you always foll...</td>\n",
              "    </tr>\n",
              "  </tbody>\n",
              "</table>\n",
              "</div>"
            ],
            "text/plain": [
              "                                             english\n",
              "0  The earth is getting hotter if you always foll...\n",
              "1  The earth is getting hotter if you always foll...\n",
              "2  The earth is getting hotter if you always foll...\n",
              "3  burn forest in northern morocco https t co cby...\n",
              "4  The earth is getting hotter if you always foll..."
            ]
          },
          "execution_count": 68,
          "metadata": {},
          "output_type": "execute_result"
        }
      ],
      "source": [
        "df = pd.read_csv('datasetenglish.csv')\n",
        "df.head()"
      ]
    },
    {
      "cell_type": "code",
      "execution_count": null,
      "metadata": {
        "colab": {
          "base_uri": "https://localhost:8080/"
        },
        "id": "S3o_oWItit8x",
        "outputId": "59fbafcd-90f3-44de-bc5c-62e70ccddf2a"
      },
      "outputs": [
        {
          "name": "stderr",
          "output_type": "stream",
          "text": [
            "[nltk_data] Downloading package vader_lexicon to\n",
            "[nltk_data]     /home/reindrairawan/nltk_data...\n",
            "[nltk_data]   Package vader_lexicon is already up-to-date!\n"
          ]
        }
      ],
      "source": [
        "import nltk\n",
        "nltk.download('vader_lexicon')\n",
        "from nltk.sentiment.vader import SentimentIntensityAnalyzer\n",
        "sid = SentimentIntensityAnalyzer()"
      ]
    },
    {
      "cell_type": "code",
      "execution_count": null,
      "metadata": {
        "id": "Xo7KpltkWGkQ"
      },
      "outputs": [],
      "source": [
        "#untuk mengetahui \n",
        "sid = SentimentIntensityAnalyzer()\n",
        "\n",
        "data = {\n",
        "    interaction_id: sid.polarity_scores(\n",
        "        ' '.join(df[df['english'] == interaction_id]['english'])\n",
        "    )\n",
        "    for interaction_id in df['english'].unique()\n",
        "}\n",
        "\n",
        "\n",
        "df = pd.DataFrame.from_dict(data, orient='index')\n",
        "df.to_csv(\"sentimentcancelvssaves.csv\")"
      ]
    },
    {
      "cell_type": "code",
      "execution_count": null,
      "metadata": {
        "colab": {
          "base_uri": "https://localhost:8080/",
          "height": 1000
        },
        "id": "o6Ih_Zbxjl99",
        "outputId": "69711a89-7fcc-44b0-8eb2-b6ad2f35f5cf"
      },
      "outputs": [
        {
          "data": {
            "text/html": [
              "<div>\n",
              "<style scoped>\n",
              "    .dataframe tbody tr th:only-of-type {\n",
              "        vertical-align: middle;\n",
              "    }\n",
              "\n",
              "    .dataframe tbody tr th {\n",
              "        vertical-align: top;\n",
              "    }\n",
              "\n",
              "    .dataframe thead th {\n",
              "        text-align: right;\n",
              "    }\n",
              "</style>\n",
              "<table border=\"1\" class=\"dataframe\">\n",
              "  <thead>\n",
              "    <tr style=\"text-align: right;\">\n",
              "      <th></th>\n",
              "      <th>Unnamed: 0</th>\n",
              "      <th>neg</th>\n",
              "      <th>neu</th>\n",
              "      <th>pos</th>\n",
              "      <th>compound</th>\n",
              "    </tr>\n",
              "  </thead>\n",
              "  <tbody>\n",
              "    <tr>\n",
              "      <th>0</th>\n",
              "      <td>The earth is getting hotter if you always foll...</td>\n",
              "      <td>0.000</td>\n",
              "      <td>0.955</td>\n",
              "      <td>0.045</td>\n",
              "      <td>0.9776</td>\n",
              "    </tr>\n",
              "    <tr>\n",
              "      <th>1</th>\n",
              "      <td>burn forest in northern morocco https t co cby...</td>\n",
              "      <td>0.000</td>\n",
              "      <td>1.000</td>\n",
              "      <td>0.000</td>\n",
              "      <td>0.0000</td>\n",
              "    </tr>\n",
              "    <tr>\n",
              "      <th>2</th>\n",
              "      <td>forest fires spread in france 480 people evacu...</td>\n",
              "      <td>0.000</td>\n",
              "      <td>1.000</td>\n",
              "      <td>0.000</td>\n",
              "      <td>0.0000</td>\n",
              "    </tr>\n",
              "    <tr>\n",
              "      <th>3</th>\n",
              "      <td>https tco jgdymoippn</td>\n",
              "      <td>0.000</td>\n",
              "      <td>1.000</td>\n",
              "      <td>0.000</td>\n",
              "      <td>0.0000</td>\n",
              "    </tr>\n",
              "    <tr>\n",
              "      <th>4</th>\n",
              "      <td>I hope the people who belong to the sun will a...</td>\n",
              "      <td>0.000</td>\n",
              "      <td>0.903</td>\n",
              "      <td>0.097</td>\n",
              "      <td>0.4404</td>\n",
              "    </tr>\n",
              "    <tr>\n",
              "      <th>5</th>\n",
              "      <td>This activity that took two days 13 14 07 2022...</td>\n",
              "      <td>0.000</td>\n",
              "      <td>1.000</td>\n",
              "      <td>0.000</td>\n",
              "      <td>0.0000</td>\n",
              "    </tr>\n",
              "    <tr>\n",
              "      <th>6</th>\n",
              "      <td>klhk then directorate of forest and land fire ...</td>\n",
              "      <td>0.050</td>\n",
              "      <td>0.826</td>\n",
              "      <td>0.124</td>\n",
              "      <td>0.5574</td>\n",
              "    </tr>\n",
              "    <tr>\n",
              "      <th>7</th>\n",
              "      <td>There are many strong indications that forest ...</td>\n",
              "      <td>0.043</td>\n",
              "      <td>0.820</td>\n",
              "      <td>0.137</td>\n",
              "      <td>0.6249</td>\n",
              "    </tr>\n",
              "  </tbody>\n",
              "</table>\n",
              "</div>"
            ],
            "text/plain": [
              "                                          Unnamed: 0    neg    neu    pos  \\\n",
              "0  The earth is getting hotter if you always foll...  0.000  0.955  0.045   \n",
              "1  burn forest in northern morocco https t co cby...  0.000  1.000  0.000   \n",
              "2  forest fires spread in france 480 people evacu...  0.000  1.000  0.000   \n",
              "3                               https tco jgdymoippn  0.000  1.000  0.000   \n",
              "4  I hope the people who belong to the sun will a...  0.000  0.903  0.097   \n",
              "5  This activity that took two days 13 14 07 2022...  0.000  1.000  0.000   \n",
              "6  klhk then directorate of forest and land fire ...  0.050  0.826  0.124   \n",
              "7  There are many strong indications that forest ...  0.043  0.820  0.137   \n",
              "\n",
              "   compound  \n",
              "0    0.9776  \n",
              "1    0.0000  \n",
              "2    0.0000  \n",
              "3    0.0000  \n",
              "4    0.4404  \n",
              "5    0.0000  \n",
              "6    0.5574  \n",
              "7    0.6249  "
            ]
          },
          "execution_count": 71,
          "metadata": {},
          "output_type": "execute_result"
        }
      ],
      "source": [
        "df = pd.read_csv('sentimentcancelvssaves.csv')\n",
        "df.head(10)\n"
      ]
    },
    {
      "cell_type": "code",
      "execution_count": 122,
      "metadata": {
        "colab": {
          "base_uri": "https://localhost:8080/",
          "height": 1000
        },
        "id": "NPCyadmZxIPO",
        "outputId": "3c2594b4-4c5d-4c22-d692-76a84546c7e1"
      },
      "outputs": [
        {
          "data": {
            "text/html": [
              "<div>\n",
              "<style scoped>\n",
              "    .dataframe tbody tr th:only-of-type {\n",
              "        vertical-align: middle;\n",
              "    }\n",
              "\n",
              "    .dataframe tbody tr th {\n",
              "        vertical-align: top;\n",
              "    }\n",
              "\n",
              "    .dataframe thead th {\n",
              "        text-align: right;\n",
              "    }\n",
              "</style>\n",
              "<table border=\"1\" class=\"dataframe\">\n",
              "  <thead>\n",
              "    <tr style=\"text-align: right;\">\n",
              "      <th></th>\n",
              "      <th>Unnamed: 0</th>\n",
              "      <th>neg</th>\n",
              "      <th>neu</th>\n",
              "      <th>pos</th>\n",
              "      <th>compound</th>\n",
              "      <th>comp_score</th>\n",
              "    </tr>\n",
              "  </thead>\n",
              "  <tbody>\n",
              "    <tr>\n",
              "      <th>0</th>\n",
              "      <td>The earth is getting hotter if you always foll...</td>\n",
              "      <td>0.000</td>\n",
              "      <td>0.955</td>\n",
              "      <td>0.045</td>\n",
              "      <td>0.9776</td>\n",
              "      <td>pos</td>\n",
              "    </tr>\n",
              "    <tr>\n",
              "      <th>1</th>\n",
              "      <td>burn forest in northern morocco https t co cby...</td>\n",
              "      <td>0.000</td>\n",
              "      <td>1.000</td>\n",
              "      <td>0.000</td>\n",
              "      <td>0.0000</td>\n",
              "      <td>neu</td>\n",
              "    </tr>\n",
              "    <tr>\n",
              "      <th>2</th>\n",
              "      <td>forest fires spread in france 480 people evacu...</td>\n",
              "      <td>0.000</td>\n",
              "      <td>1.000</td>\n",
              "      <td>0.000</td>\n",
              "      <td>0.0000</td>\n",
              "      <td>neu</td>\n",
              "    </tr>\n",
              "    <tr>\n",
              "      <th>3</th>\n",
              "      <td>https tco jgdymoippn</td>\n",
              "      <td>0.000</td>\n",
              "      <td>1.000</td>\n",
              "      <td>0.000</td>\n",
              "      <td>0.0000</td>\n",
              "      <td>neu</td>\n",
              "    </tr>\n",
              "    <tr>\n",
              "      <th>4</th>\n",
              "      <td>I hope the people who belong to the sun will a...</td>\n",
              "      <td>0.000</td>\n",
              "      <td>0.903</td>\n",
              "      <td>0.097</td>\n",
              "      <td>0.4404</td>\n",
              "      <td>pos</td>\n",
              "    </tr>\n",
              "    <tr>\n",
              "      <th>5</th>\n",
              "      <td>This activity that took two days 13 14 07 2022...</td>\n",
              "      <td>0.000</td>\n",
              "      <td>1.000</td>\n",
              "      <td>0.000</td>\n",
              "      <td>0.0000</td>\n",
              "      <td>neu</td>\n",
              "    </tr>\n",
              "    <tr>\n",
              "      <th>6</th>\n",
              "      <td>klhk then directorate of forest and land fire ...</td>\n",
              "      <td>0.050</td>\n",
              "      <td>0.826</td>\n",
              "      <td>0.124</td>\n",
              "      <td>0.5574</td>\n",
              "      <td>pos</td>\n",
              "    </tr>\n",
              "    <tr>\n",
              "      <th>7</th>\n",
              "      <td>There are many strong indications that forest ...</td>\n",
              "      <td>0.043</td>\n",
              "      <td>0.820</td>\n",
              "      <td>0.137</td>\n",
              "      <td>0.6249</td>\n",
              "      <td>pos</td>\n",
              "    </tr>\n",
              "  </tbody>\n",
              "</table>\n",
              "</div>"
            ],
            "text/plain": [
              "                                          Unnamed: 0    neg    neu    pos  \\\n",
              "0  The earth is getting hotter if you always foll...  0.000  0.955  0.045   \n",
              "1  burn forest in northern morocco https t co cby...  0.000  1.000  0.000   \n",
              "2  forest fires spread in france 480 people evacu...  0.000  1.000  0.000   \n",
              "3                               https tco jgdymoippn  0.000  1.000  0.000   \n",
              "4  I hope the people who belong to the sun will a...  0.000  0.903  0.097   \n",
              "5  This activity that took two days 13 14 07 2022...  0.000  1.000  0.000   \n",
              "6  klhk then directorate of forest and land fire ...  0.050  0.826  0.124   \n",
              "7  There are many strong indications that forest ...  0.043  0.820  0.137   \n",
              "\n",
              "   compound comp_score  \n",
              "0    0.9776        pos  \n",
              "1    0.0000        neu  \n",
              "2    0.0000        neu  \n",
              "3    0.0000        neu  \n",
              "4    0.4404        pos  \n",
              "5    0.0000        neu  \n",
              "6    0.5574        pos  \n",
              "7    0.6249        pos  "
            ]
          },
          "execution_count": 122,
          "metadata": {},
          "output_type": "execute_result"
        }
      ],
      "source": [
        "df['comp_score'] = df['compound'].apply(lambda c: 'pos' if c >=0.1 else ('neg' if c <0 else 'neu')) \n",
        "df "
      ]
    },
    {
      "cell_type": "code",
      "execution_count": null,
      "metadata": {
        "colab": {
          "base_uri": "https://localhost:8080/"
        },
        "id": "RI6Hzjx9I0d4",
        "outputId": "00402299-a62f-4611-93a7-585e7838aba4"
      },
      "outputs": [
        {
          "data": {
            "text/plain": [
              "pos    4\n",
              "neu    4\n",
              "Name: comp_score, dtype: int64"
            ]
          },
          "execution_count": 73,
          "metadata": {},
          "output_type": "execute_result"
        }
      ],
      "source": [
        "df['comp_score'].value_counts()"
      ]
    },
    {
      "cell_type": "code",
      "execution_count": null,
      "metadata": {
        "colab": {
          "base_uri": "https://localhost:8080/",
          "height": 1000
        },
        "id": "pBuExvFKbe_L",
        "outputId": "28ef12d4-9153-4c59-8ccd-147170dcd2ab"
      },
      "outputs": [
        {
          "data": {
            "text/html": [
              "<div>\n",
              "<style scoped>\n",
              "    .dataframe tbody tr th:only-of-type {\n",
              "        vertical-align: middle;\n",
              "    }\n",
              "\n",
              "    .dataframe tbody tr th {\n",
              "        vertical-align: top;\n",
              "    }\n",
              "\n",
              "    .dataframe thead th {\n",
              "        text-align: right;\n",
              "    }\n",
              "</style>\n",
              "<table border=\"1\" class=\"dataframe\">\n",
              "  <thead>\n",
              "    <tr style=\"text-align: right;\">\n",
              "      <th></th>\n",
              "      <th>text</th>\n",
              "      <th>neg</th>\n",
              "      <th>neu</th>\n",
              "      <th>pos</th>\n",
              "      <th>compound</th>\n",
              "      <th>comp_score</th>\n",
              "    </tr>\n",
              "  </thead>\n",
              "  <tbody>\n",
              "    <tr>\n",
              "      <th>0</th>\n",
              "      <td>The earth is getting hotter if you always foll...</td>\n",
              "      <td>0.000</td>\n",
              "      <td>0.955</td>\n",
              "      <td>0.045</td>\n",
              "      <td>0.9776</td>\n",
              "      <td>pos</td>\n",
              "    </tr>\n",
              "    <tr>\n",
              "      <th>1</th>\n",
              "      <td>burn forest in northern morocco https t co cby...</td>\n",
              "      <td>0.000</td>\n",
              "      <td>1.000</td>\n",
              "      <td>0.000</td>\n",
              "      <td>0.0000</td>\n",
              "      <td>neu</td>\n",
              "    </tr>\n",
              "    <tr>\n",
              "      <th>2</th>\n",
              "      <td>forest fires spread in france 480 people evacu...</td>\n",
              "      <td>0.000</td>\n",
              "      <td>1.000</td>\n",
              "      <td>0.000</td>\n",
              "      <td>0.0000</td>\n",
              "      <td>neu</td>\n",
              "    </tr>\n",
              "    <tr>\n",
              "      <th>3</th>\n",
              "      <td>https tco jgdymoippn</td>\n",
              "      <td>0.000</td>\n",
              "      <td>1.000</td>\n",
              "      <td>0.000</td>\n",
              "      <td>0.0000</td>\n",
              "      <td>neu</td>\n",
              "    </tr>\n",
              "    <tr>\n",
              "      <th>4</th>\n",
              "      <td>I hope the people who belong to the sun will a...</td>\n",
              "      <td>0.000</td>\n",
              "      <td>0.903</td>\n",
              "      <td>0.097</td>\n",
              "      <td>0.4404</td>\n",
              "      <td>pos</td>\n",
              "    </tr>\n",
              "    <tr>\n",
              "      <th>5</th>\n",
              "      <td>This activity that took two days 13 14 07 2022...</td>\n",
              "      <td>0.000</td>\n",
              "      <td>1.000</td>\n",
              "      <td>0.000</td>\n",
              "      <td>0.0000</td>\n",
              "      <td>neu</td>\n",
              "    </tr>\n",
              "    <tr>\n",
              "      <th>6</th>\n",
              "      <td>klhk then directorate of forest and land fire ...</td>\n",
              "      <td>0.050</td>\n",
              "      <td>0.826</td>\n",
              "      <td>0.124</td>\n",
              "      <td>0.5574</td>\n",
              "      <td>pos</td>\n",
              "    </tr>\n",
              "    <tr>\n",
              "      <th>7</th>\n",
              "      <td>There are many strong indications that forest ...</td>\n",
              "      <td>0.043</td>\n",
              "      <td>0.820</td>\n",
              "      <td>0.137</td>\n",
              "      <td>0.6249</td>\n",
              "      <td>pos</td>\n",
              "    </tr>\n",
              "  </tbody>\n",
              "</table>\n",
              "</div>"
            ],
            "text/plain": [
              "                                                text    neg    neu    pos  \\\n",
              "0  The earth is getting hotter if you always foll...  0.000  0.955  0.045   \n",
              "1  burn forest in northern morocco https t co cby...  0.000  1.000  0.000   \n",
              "2  forest fires spread in france 480 people evacu...  0.000  1.000  0.000   \n",
              "3                               https tco jgdymoippn  0.000  1.000  0.000   \n",
              "4  I hope the people who belong to the sun will a...  0.000  0.903  0.097   \n",
              "5  This activity that took two days 13 14 07 2022...  0.000  1.000  0.000   \n",
              "6  klhk then directorate of forest and land fire ...  0.050  0.826  0.124   \n",
              "7  There are many strong indications that forest ...  0.043  0.820  0.137   \n",
              "\n",
              "   compound comp_score  \n",
              "0    0.9776        pos  \n",
              "1    0.0000        neu  \n",
              "2    0.0000        neu  \n",
              "3    0.0000        neu  \n",
              "4    0.4404        pos  \n",
              "5    0.0000        neu  \n",
              "6    0.5574        pos  \n",
              "7    0.6249        pos  "
            ]
          },
          "execution_count": 74,
          "metadata": {},
          "output_type": "execute_result"
        }
      ],
      "source": [
        "df.columns = df.columns.str.replace('Unnamed: 0', 'text')\n",
        "df"
      ]
    },
    {
      "cell_type": "code",
      "execution_count": null,
      "metadata": {
        "id": "5_JkstC1beHr"
      },
      "outputs": [],
      "source": [
        "df.to_csv(\"datatrain.csv\")"
      ]
    },
    {
      "cell_type": "code",
      "execution_count": null,
      "metadata": {
        "colab": {
          "base_uri": "https://localhost:8080/"
        },
        "id": "LwCiCX6ON6ni",
        "outputId": "f973fd23-5085-4a17-ad4c-bcf50dbecce5"
      },
      "outputs": [
        {
          "name": "stdout",
          "output_type": "stream",
          "text": [
            "Positive accuracy = 40.0% via 10 samples\n",
            "Negative accuracy = 0.0% via 2 samples\n"
          ]
        }
      ],
      "source": [
        "import time\n",
        "analyzer = SentimentIntensityAnalyzer()\n",
        "\n",
        "df = pd.read_csv('sentimentcancelvssaves.csv')\n",
        "df.head()\n",
        "\n",
        "\n",
        "pos_count = 0\n",
        "pos_correct = 0\n",
        "\n",
        "with open(\"sentimentcancelvssaves.csv\",\"r\") as f:\n",
        "    for line in f.read().split('\\n'):\n",
        "        vs = analyzer.polarity_scores(line)\n",
        "        if not vs['neg'] > 0.1:\n",
        "            if vs['pos']-vs['neg'] > 0:\n",
        "                pos_correct += 1\n",
        "            pos_count +=1\n",
        "\n",
        "\n",
        "neg_count = 0\n",
        "neg_correct = 0\n",
        "\n",
        "with open(\"sentimentcancelvssaves.csv\",\"r\") as f:\n",
        "    for line in f.read().split('\\n'):\n",
        "        vs = analyzer.polarity_scores(line)\n",
        "        if  vs['pos'] > 0.1:\n",
        "            if vs['pos']-vs['neg'] <= 0:\n",
        "                neg_correct += 1\n",
        "            neg_count +=1\n",
        "\n",
        "print(\"Positive accuracy = {}% via {} samples\".format(pos_correct/pos_count*100.0, pos_count))\n",
        "print(\"Negative accuracy = {}% via {} samples\".format(neg_correct/neg_count*100.0, neg_count))\n",
        "\n"
      ]
    },
    {
      "cell_type": "markdown",
      "metadata": {
        "id": "3b3NNwj7gl0q"
      },
      "source": [
        "# Naive Bayes"
      ]
    },
    {
      "cell_type": "code",
      "execution_count": null,
      "metadata": {
        "id": "6qr98reNgpfs"
      },
      "outputs": [],
      "source": [
        "from sklearn.naive_bayes import MultinomialNB\n",
        "from sklearn.feature_extraction.text import TfidfVectorizer\n",
        "#random urutan dan split ke data training dan test\n",
        "from sklearn.model_selection import train_test_split"
      ]
    },
    {
      "cell_type": "code",
      "execution_count": null,
      "metadata": {
        "colab": {
          "base_uri": "https://localhost:8080/",
          "height": 185
        },
        "id": "wgBdKS-8hA5v",
        "outputId": "49a608fc-3451-45a3-8261-c750453c57af"
      },
      "outputs": [
        {
          "data": {
            "text/html": [
              "<div>\n",
              "<style scoped>\n",
              "    .dataframe tbody tr th:only-of-type {\n",
              "        vertical-align: middle;\n",
              "    }\n",
              "\n",
              "    .dataframe tbody tr th {\n",
              "        vertical-align: top;\n",
              "    }\n",
              "\n",
              "    .dataframe thead th {\n",
              "        text-align: right;\n",
              "    }\n",
              "</style>\n",
              "<table border=\"1\" class=\"dataframe\">\n",
              "  <thead>\n",
              "    <tr style=\"text-align: right;\">\n",
              "      <th></th>\n",
              "      <th>Unnamed: 0</th>\n",
              "      <th>text</th>\n",
              "      <th>neg</th>\n",
              "      <th>neu</th>\n",
              "      <th>pos</th>\n",
              "      <th>compound</th>\n",
              "      <th>comp_score</th>\n",
              "    </tr>\n",
              "  </thead>\n",
              "  <tbody>\n",
              "    <tr>\n",
              "      <th>0</th>\n",
              "      <td>0</td>\n",
              "      <td>The earth is getting hotter if you always foll...</td>\n",
              "      <td>0.000</td>\n",
              "      <td>0.955</td>\n",
              "      <td>0.045</td>\n",
              "      <td>0.9776</td>\n",
              "      <td>pos</td>\n",
              "    </tr>\n",
              "    <tr>\n",
              "      <th>1</th>\n",
              "      <td>1</td>\n",
              "      <td>burn forest in northern morocco https t co cby...</td>\n",
              "      <td>0.000</td>\n",
              "      <td>1.000</td>\n",
              "      <td>0.000</td>\n",
              "      <td>0.0000</td>\n",
              "      <td>neu</td>\n",
              "    </tr>\n",
              "    <tr>\n",
              "      <th>2</th>\n",
              "      <td>2</td>\n",
              "      <td>forest fires spread in france 480 people evacu...</td>\n",
              "      <td>0.000</td>\n",
              "      <td>1.000</td>\n",
              "      <td>0.000</td>\n",
              "      <td>0.0000</td>\n",
              "      <td>neu</td>\n",
              "    </tr>\n",
              "    <tr>\n",
              "      <th>3</th>\n",
              "      <td>3</td>\n",
              "      <td>https tco jgdymoippn</td>\n",
              "      <td>0.000</td>\n",
              "      <td>1.000</td>\n",
              "      <td>0.000</td>\n",
              "      <td>0.0000</td>\n",
              "      <td>neu</td>\n",
              "    </tr>\n",
              "    <tr>\n",
              "      <th>4</th>\n",
              "      <td>4</td>\n",
              "      <td>I hope the people who belong to the sun will a...</td>\n",
              "      <td>0.000</td>\n",
              "      <td>0.903</td>\n",
              "      <td>0.097</td>\n",
              "      <td>0.4404</td>\n",
              "      <td>pos</td>\n",
              "    </tr>\n",
              "    <tr>\n",
              "      <th>5</th>\n",
              "      <td>5</td>\n",
              "      <td>This activity that took two days 13 14 07 2022...</td>\n",
              "      <td>0.000</td>\n",
              "      <td>1.000</td>\n",
              "      <td>0.000</td>\n",
              "      <td>0.0000</td>\n",
              "      <td>neu</td>\n",
              "    </tr>\n",
              "    <tr>\n",
              "      <th>6</th>\n",
              "      <td>6</td>\n",
              "      <td>klhk then directorate of forest and land fire ...</td>\n",
              "      <td>0.050</td>\n",
              "      <td>0.826</td>\n",
              "      <td>0.124</td>\n",
              "      <td>0.5574</td>\n",
              "      <td>pos</td>\n",
              "    </tr>\n",
              "    <tr>\n",
              "      <th>7</th>\n",
              "      <td>7</td>\n",
              "      <td>There are many strong indications that forest ...</td>\n",
              "      <td>0.043</td>\n",
              "      <td>0.820</td>\n",
              "      <td>0.137</td>\n",
              "      <td>0.6249</td>\n",
              "      <td>pos</td>\n",
              "    </tr>\n",
              "  </tbody>\n",
              "</table>\n",
              "</div>"
            ],
            "text/plain": [
              "   Unnamed: 0                                               text    neg  \\\n",
              "0           0  The earth is getting hotter if you always foll...  0.000   \n",
              "1           1  burn forest in northern morocco https t co cby...  0.000   \n",
              "2           2  forest fires spread in france 480 people evacu...  0.000   \n",
              "3           3                               https tco jgdymoippn  0.000   \n",
              "4           4  I hope the people who belong to the sun will a...  0.000   \n",
              "5           5  This activity that took two days 13 14 07 2022...  0.000   \n",
              "6           6  klhk then directorate of forest and land fire ...  0.050   \n",
              "7           7  There are many strong indications that forest ...  0.043   \n",
              "\n",
              "     neu    pos  compound comp_score  \n",
              "0  0.955  0.045    0.9776        pos  \n",
              "1  1.000  0.000    0.0000        neu  \n",
              "2  1.000  0.000    0.0000        neu  \n",
              "3  1.000  0.000    0.0000        neu  \n",
              "4  0.903  0.097    0.4404        pos  \n",
              "5  1.000  0.000    0.0000        neu  \n",
              "6  0.826  0.124    0.5574        pos  \n",
              "7  0.820  0.137    0.6249        pos  "
            ]
          },
          "execution_count": 78,
          "metadata": {},
          "output_type": "execute_result"
        }
      ],
      "source": [
        "data = pd.read_csv('datatrain.csv')\n",
        "data"
      ]
    },
    {
      "cell_type": "code",
      "execution_count": null,
      "metadata": {
        "colab": {
          "base_uri": "https://localhost:8080/"
        },
        "id": "0T5-X58NnkD8",
        "outputId": "7f246a00-dc4d-404f-a7d1-b49ec57fd7a7"
      },
      "outputs": [
        {
          "name": "stdout",
          "output_type": "stream",
          "text": [
            "pos    4\n",
            "neu    4\n",
            "Name: comp_score, dtype: int64\n"
          ]
        }
      ],
      "source": [
        "x=data[\"text\"]\n",
        "y=data[\"comp_score\"]\n",
        "\n",
        "X_train, X_test, y_train, y_test = train_test_split(x, y, test_size=0.2, random_state=13,\n",
        "                                                    shuffle=True , stratify=y)\n",
        "print(y.value_counts())"
      ]
    },
    {
      "cell_type": "code",
      "execution_count": null,
      "metadata": {
        "colab": {
          "base_uri": "https://localhost:8080/"
        },
        "id": "mQ3TotVSnytX",
        "outputId": "907269dc-75b7-44a9-f6be-9ba8fb0c1310"
      },
      "outputs": [
        {
          "data": {
            "text/html": [
              "<style>#sk-container-id-3 {color: black;background-color: white;}#sk-container-id-3 pre{padding: 0;}#sk-container-id-3 div.sk-toggleable {background-color: white;}#sk-container-id-3 label.sk-toggleable__label {cursor: pointer;display: block;width: 100%;margin-bottom: 0;padding: 0.3em;box-sizing: border-box;text-align: center;}#sk-container-id-3 label.sk-toggleable__label-arrow:before {content: \"▸\";float: left;margin-right: 0.25em;color: #696969;}#sk-container-id-3 label.sk-toggleable__label-arrow:hover:before {color: black;}#sk-container-id-3 div.sk-estimator:hover label.sk-toggleable__label-arrow:before {color: black;}#sk-container-id-3 div.sk-toggleable__content {max-height: 0;max-width: 0;overflow: hidden;text-align: left;background-color: #f0f8ff;}#sk-container-id-3 div.sk-toggleable__content pre {margin: 0.2em;color: black;border-radius: 0.25em;background-color: #f0f8ff;}#sk-container-id-3 input.sk-toggleable__control:checked~div.sk-toggleable__content {max-height: 200px;max-width: 100%;overflow: auto;}#sk-container-id-3 input.sk-toggleable__control:checked~label.sk-toggleable__label-arrow:before {content: \"▾\";}#sk-container-id-3 div.sk-estimator input.sk-toggleable__control:checked~label.sk-toggleable__label {background-color: #d4ebff;}#sk-container-id-3 div.sk-label input.sk-toggleable__control:checked~label.sk-toggleable__label {background-color: #d4ebff;}#sk-container-id-3 input.sk-hidden--visually {border: 0;clip: rect(1px 1px 1px 1px);clip: rect(1px, 1px, 1px, 1px);height: 1px;margin: -1px;overflow: hidden;padding: 0;position: absolute;width: 1px;}#sk-container-id-3 div.sk-estimator {font-family: monospace;background-color: #f0f8ff;border: 1px dotted black;border-radius: 0.25em;box-sizing: border-box;margin-bottom: 0.5em;}#sk-container-id-3 div.sk-estimator:hover {background-color: #d4ebff;}#sk-container-id-3 div.sk-parallel-item::after {content: \"\";width: 100%;border-bottom: 1px solid gray;flex-grow: 1;}#sk-container-id-3 div.sk-label:hover label.sk-toggleable__label {background-color: #d4ebff;}#sk-container-id-3 div.sk-serial::before {content: \"\";position: absolute;border-left: 1px solid gray;box-sizing: border-box;top: 0;bottom: 0;left: 50%;z-index: 0;}#sk-container-id-3 div.sk-serial {display: flex;flex-direction: column;align-items: center;background-color: white;padding-right: 0.2em;padding-left: 0.2em;position: relative;}#sk-container-id-3 div.sk-item {position: relative;z-index: 1;}#sk-container-id-3 div.sk-parallel {display: flex;align-items: stretch;justify-content: center;background-color: white;position: relative;}#sk-container-id-3 div.sk-item::before, #sk-container-id-3 div.sk-parallel-item::before {content: \"\";position: absolute;border-left: 1px solid gray;box-sizing: border-box;top: 0;bottom: 0;left: 50%;z-index: -1;}#sk-container-id-3 div.sk-parallel-item {display: flex;flex-direction: column;z-index: 1;position: relative;background-color: white;}#sk-container-id-3 div.sk-parallel-item:first-child::after {align-self: flex-end;width: 50%;}#sk-container-id-3 div.sk-parallel-item:last-child::after {align-self: flex-start;width: 50%;}#sk-container-id-3 div.sk-parallel-item:only-child::after {width: 0;}#sk-container-id-3 div.sk-dashed-wrapped {border: 1px dashed gray;margin: 0 0.4em 0.5em 0.4em;box-sizing: border-box;padding-bottom: 0.4em;background-color: white;}#sk-container-id-3 div.sk-label label {font-family: monospace;font-weight: bold;display: inline-block;line-height: 1.2em;}#sk-container-id-3 div.sk-label-container {text-align: center;}#sk-container-id-3 div.sk-container {/* jupyter's `normalize.less` sets `[hidden] { display: none; }` but bootstrap.min.css set `[hidden] { display: none !important; }` so we also need the `!important` here to be able to override the default hidden behavior on the sphinx rendered scikit-learn.org. See: https://github.com/scikit-learn/scikit-learn/issues/21755 */display: inline-block !important;position: relative;}#sk-container-id-3 div.sk-text-repr-fallback {display: none;}</style><div id=\"sk-container-id-3\" class=\"sk-top-container\"><div class=\"sk-text-repr-fallback\"><pre>Pipeline(steps=[(&#x27;vectorize&#x27;, CountVectorizer(token_pattern=&#x27;\\\\b\\\\w+\\\\b&#x27;)),\n",
              "                (&#x27;classifier&#x27;, MultinomialNB())])</pre><b>In a Jupyter environment, please rerun this cell to show the HTML representation or trust the notebook. <br />On GitHub, the HTML representation is unable to render, please try loading this page with nbviewer.org.</b></div><div class=\"sk-container\" hidden><div class=\"sk-item sk-dashed-wrapped\"><div class=\"sk-label-container\"><div class=\"sk-label sk-toggleable\"><input class=\"sk-toggleable__control sk-hidden--visually\" id=\"sk-estimator-id-5\" type=\"checkbox\" ><label for=\"sk-estimator-id-5\" class=\"sk-toggleable__label sk-toggleable__label-arrow\">Pipeline</label><div class=\"sk-toggleable__content\"><pre>Pipeline(steps=[(&#x27;vectorize&#x27;, CountVectorizer(token_pattern=&#x27;\\\\b\\\\w+\\\\b&#x27;)),\n",
              "                (&#x27;classifier&#x27;, MultinomialNB())])</pre></div></div></div><div class=\"sk-serial\"><div class=\"sk-item\"><div class=\"sk-estimator sk-toggleable\"><input class=\"sk-toggleable__control sk-hidden--visually\" id=\"sk-estimator-id-6\" type=\"checkbox\" ><label for=\"sk-estimator-id-6\" class=\"sk-toggleable__label sk-toggleable__label-arrow\">CountVectorizer</label><div class=\"sk-toggleable__content\"><pre>CountVectorizer(token_pattern=&#x27;\\\\b\\\\w+\\\\b&#x27;)</pre></div></div></div><div class=\"sk-item\"><div class=\"sk-estimator sk-toggleable\"><input class=\"sk-toggleable__control sk-hidden--visually\" id=\"sk-estimator-id-7\" type=\"checkbox\" ><label for=\"sk-estimator-id-7\" class=\"sk-toggleable__label sk-toggleable__label-arrow\">MultinomialNB</label><div class=\"sk-toggleable__content\"><pre>MultinomialNB()</pre></div></div></div></div></div></div></div>"
            ],
            "text/plain": [
              "Pipeline(steps=[('vectorize', CountVectorizer(token_pattern='\\\\b\\\\w+\\\\b')),\n",
              "                ('classifier', MultinomialNB())])"
            ]
          },
          "execution_count": 80,
          "metadata": {},
          "output_type": "execute_result"
        }
      ],
      "source": [
        "from sklearn.pipeline import Pipeline\n",
        "from sklearn.metrics import accuracy_score, confusion_matrix, classification_report\n",
        "\n",
        "pipe = Pipeline(steps=[('vectorize', CountVectorizer(ngram_range=(1, 1), token_pattern=r'\\b\\w+\\b')),\n",
        "                       ('classifier', MultinomialNB())])\n",
        "\n",
        "pipe.fit(X_train, y_train)"
      ]
    },
    {
      "cell_type": "code",
      "execution_count": 109,
      "metadata": {
        "colab": {
          "base_uri": "https://localhost:8080/",
          "height": 598
        },
        "id": "JHgxR5ZHoAry",
        "outputId": "7312f262-5d19-4234-fa38-2c67d923e9b8"
      },
      "outputs": [
        {
          "name": "stdout",
          "output_type": "stream",
          "text": [
            "akurasi 1.0\n",
            "              precision    recall  f1-score   support\n",
            "\n",
            "         neu       1.00      1.00      1.00         1\n",
            "         pos       1.00      1.00      1.00         1\n",
            "\n",
            "    accuracy                           1.00         2\n",
            "   macro avg       1.00      1.00      1.00         2\n",
            "weighted avg       1.00      1.00      1.00         2\n",
            "\n"
          ]
        },
        {
          "data": {
            "image/png": "[encoded data removed]",
            "text/plain": [
              "<Figure size 432x288 with 2 Axes>"
            ]
          },
          "metadata": {
            "needs_background": "light"
          },
          "output_type": "display_data"
        }
      ],
      "source": [
        "import warnings\n",
        "warnings.filterwarnings('always') \n",
        "y_predict = pipe.predict(X_test)\n",
        "\n",
        "akurasinbc =  accuracy_score(y_test,y_predict)*100\n",
        "\n",
        "# akurasinbc = str(akurasinbc)\n",
        "\n",
        "print(\"akurasi\", accuracy_score(y_test,y_predict))\n",
        "print(classification_report(y_test, y_predict))\n",
        "\n",
        "mat = confusion_matrix(y_test, y_predict)\n",
        "sns.heatmap(mat, square=True, annot=True, fmt='d', cbar=True, cmap='coolwarm', linewidths=5)\n",
        "plt.xlabel('predicted value')\n",
        "plt.ylabel('true value')\n",
        "plt.show()\n",
        "\n",
        "\n",
        "@anvil.server.callable()\n",
        "def HasilAkurasiNBC(lokasi):\n",
        "\n",
        "\n",
        "  return lokasi + str(akurasinbc)"
      ]
    },
    {
      "cell_type": "markdown",
      "metadata": {
        "id": "voBK-D6m1cib"
      },
      "source": [
        "# SVM \n"
      ]
    },
    {
      "cell_type": "code",
      "execution_count": 110,
      "metadata": {
        "id": "SRhdoDbc1ifw"
      },
      "outputs": [],
      "source": [
        "from sklearn.feature_extraction. text import TfidfVectorizer\n",
        "from sklearn import model_selection, svm\n",
        "from sklearn.metrics import accuracy_score \n",
        "from sklearn import preprocessing\n",
        "from sklearn.preprocessing import LabelEncoder\n",
        "from sklearn.metrics import classification_report"
      ]
    },
    {
      "cell_type": "code",
      "execution_count": 111,
      "metadata": {
        "colab": {
          "base_uri": "https://localhost:8080/",
          "height": 850
        },
        "id": "7KPWRC_c03Xx",
        "outputId": "d95db506-7e66-4f37-e28d-d6798ffcd4b8"
      },
      "outputs": [
        {
          "data": {
            "text/html": [
              "<div>\n",
              "<style scoped>\n",
              "    .dataframe tbody tr th:only-of-type {\n",
              "        vertical-align: middle;\n",
              "    }\n",
              "\n",
              "    .dataframe tbody tr th {\n",
              "        vertical-align: top;\n",
              "    }\n",
              "\n",
              "    .dataframe thead th {\n",
              "        text-align: right;\n",
              "    }\n",
              "</style>\n",
              "<table border=\"1\" class=\"dataframe\">\n",
              "  <thead>\n",
              "    <tr style=\"text-align: right;\">\n",
              "      <th></th>\n",
              "      <th>Unnamed: 0</th>\n",
              "      <th>text</th>\n",
              "      <th>neg</th>\n",
              "      <th>neu</th>\n",
              "      <th>pos</th>\n",
              "      <th>compound</th>\n",
              "      <th>comp_score</th>\n",
              "    </tr>\n",
              "  </thead>\n",
              "  <tbody>\n",
              "    <tr>\n",
              "      <th>0</th>\n",
              "      <td>0</td>\n",
              "      <td>The earth is getting hotter if you always foll...</td>\n",
              "      <td>0.000</td>\n",
              "      <td>0.955</td>\n",
              "      <td>0.045</td>\n",
              "      <td>0.9776</td>\n",
              "      <td>pos</td>\n",
              "    </tr>\n",
              "    <tr>\n",
              "      <th>1</th>\n",
              "      <td>1</td>\n",
              "      <td>burn forest in northern morocco https t co cby...</td>\n",
              "      <td>0.000</td>\n",
              "      <td>1.000</td>\n",
              "      <td>0.000</td>\n",
              "      <td>0.0000</td>\n",
              "      <td>neu</td>\n",
              "    </tr>\n",
              "    <tr>\n",
              "      <th>2</th>\n",
              "      <td>2</td>\n",
              "      <td>forest fires spread in france 480 people evacu...</td>\n",
              "      <td>0.000</td>\n",
              "      <td>1.000</td>\n",
              "      <td>0.000</td>\n",
              "      <td>0.0000</td>\n",
              "      <td>neu</td>\n",
              "    </tr>\n",
              "    <tr>\n",
              "      <th>3</th>\n",
              "      <td>3</td>\n",
              "      <td>https tco jgdymoippn</td>\n",
              "      <td>0.000</td>\n",
              "      <td>1.000</td>\n",
              "      <td>0.000</td>\n",
              "      <td>0.0000</td>\n",
              "      <td>neu</td>\n",
              "    </tr>\n",
              "    <tr>\n",
              "      <th>4</th>\n",
              "      <td>4</td>\n",
              "      <td>I hope the people who belong to the sun will a...</td>\n",
              "      <td>0.000</td>\n",
              "      <td>0.903</td>\n",
              "      <td>0.097</td>\n",
              "      <td>0.4404</td>\n",
              "      <td>pos</td>\n",
              "    </tr>\n",
              "    <tr>\n",
              "      <th>5</th>\n",
              "      <td>5</td>\n",
              "      <td>This activity that took two days 13 14 07 2022...</td>\n",
              "      <td>0.000</td>\n",
              "      <td>1.000</td>\n",
              "      <td>0.000</td>\n",
              "      <td>0.0000</td>\n",
              "      <td>neu</td>\n",
              "    </tr>\n",
              "    <tr>\n",
              "      <th>6</th>\n",
              "      <td>6</td>\n",
              "      <td>klhk then directorate of forest and land fire ...</td>\n",
              "      <td>0.050</td>\n",
              "      <td>0.826</td>\n",
              "      <td>0.124</td>\n",
              "      <td>0.5574</td>\n",
              "      <td>pos</td>\n",
              "    </tr>\n",
              "    <tr>\n",
              "      <th>7</th>\n",
              "      <td>7</td>\n",
              "      <td>There are many strong indications that forest ...</td>\n",
              "      <td>0.043</td>\n",
              "      <td>0.820</td>\n",
              "      <td>0.137</td>\n",
              "      <td>0.6249</td>\n",
              "      <td>pos</td>\n",
              "    </tr>\n",
              "  </tbody>\n",
              "</table>\n",
              "</div>"
            ],
            "text/plain": [
              "   Unnamed: 0                                               text    neg  \\\n",
              "0           0  The earth is getting hotter if you always foll...  0.000   \n",
              "1           1  burn forest in northern morocco https t co cby...  0.000   \n",
              "2           2  forest fires spread in france 480 people evacu...  0.000   \n",
              "3           3                               https tco jgdymoippn  0.000   \n",
              "4           4  I hope the people who belong to the sun will a...  0.000   \n",
              "5           5  This activity that took two days 13 14 07 2022...  0.000   \n",
              "6           6  klhk then directorate of forest and land fire ...  0.050   \n",
              "7           7  There are many strong indications that forest ...  0.043   \n",
              "\n",
              "     neu    pos  compound comp_score  \n",
              "0  0.955  0.045    0.9776        pos  \n",
              "1  1.000  0.000    0.0000        neu  \n",
              "2  1.000  0.000    0.0000        neu  \n",
              "3  1.000  0.000    0.0000        neu  \n",
              "4  0.903  0.097    0.4404        pos  \n",
              "5  1.000  0.000    0.0000        neu  \n",
              "6  0.826  0.124    0.5574        pos  \n",
              "7  0.820  0.137    0.6249        pos  "
            ]
          },
          "execution_count": 111,
          "metadata": {},
          "output_type": "execute_result"
        }
      ],
      "source": [
        "datasvm = pd.read_csv('datatrain.csv')\n",
        "datasvm"
      ]
    },
    {
      "cell_type": "code",
      "execution_count": 112,
      "metadata": {
        "colab": {
          "base_uri": "https://localhost:8080/",
          "height": 366
        },
        "id": "ZhOxrRFOplvn",
        "outputId": "866b2a0a-4edd-47e1-8cce-2b758a1685dc"
      },
      "outputs": [
        {
          "name": "stdout",
          "output_type": "stream",
          "text": [
            "pos    4\n",
            "neu    4\n",
            "Name: comp_score, dtype: int64\n"
          ]
        },
        {
          "data": {
            "image/png": "[encoded data removed]",
            "text/plain": [
              "<Figure size 432x288 with 1 Axes>"
            ]
          },
          "metadata": {},
          "output_type": "display_data"
        }
      ],
      "source": [
        "temp = datasvm['comp_score'].value_counts()\n",
        "labels = datasvm['comp_score']\n",
        "colors = ['yellowgreen','red', 'gold']\n",
        "pathches, texts = plt.pie(temp, colors = colors, shadow = True, startangle=90, pctdistance=1.1, labeldistance=1.2)\n",
        "\n",
        "# plt.legend(pathches, labels, loc='best')\n",
        "plt.fignum_exists('equal')\n",
        "plt.tight_layout()\n",
        "print(labels.value_counts())\n",
        "plt.show()\n"
      ]
    },
    {
      "cell_type": "code",
      "execution_count": 113,
      "metadata": {
        "colab": {
          "base_uri": "https://localhost:8080/"
        },
        "id": "T2jeJRGxsXCP",
        "outputId": "c1e70878-717b-4e95-f69d-8591ed34e88c"
      },
      "outputs": [
        {
          "data": {
            "text/html": [
              "<style>#sk-container-id-5 {color: black;background-color: white;}#sk-container-id-5 pre{padding: 0;}#sk-container-id-5 div.sk-toggleable {background-color: white;}#sk-container-id-5 label.sk-toggleable__label {cursor: pointer;display: block;width: 100%;margin-bottom: 0;padding: 0.3em;box-sizing: border-box;text-align: center;}#sk-container-id-5 label.sk-toggleable__label-arrow:before {content: \"▸\";float: left;margin-right: 0.25em;color: #696969;}#sk-container-id-5 label.sk-toggleable__label-arrow:hover:before {color: black;}#sk-container-id-5 div.sk-estimator:hover label.sk-toggleable__label-arrow:before {color: black;}#sk-container-id-5 div.sk-toggleable__content {max-height: 0;max-width: 0;overflow: hidden;text-align: left;background-color: #f0f8ff;}#sk-container-id-5 div.sk-toggleable__content pre {margin: 0.2em;color: black;border-radius: 0.25em;background-color: #f0f8ff;}#sk-container-id-5 input.sk-toggleable__control:checked~div.sk-toggleable__content {max-height: 200px;max-width: 100%;overflow: auto;}#sk-container-id-5 input.sk-toggleable__control:checked~label.sk-toggleable__label-arrow:before {content: \"▾\";}#sk-container-id-5 div.sk-estimator input.sk-toggleable__control:checked~label.sk-toggleable__label {background-color: #d4ebff;}#sk-container-id-5 div.sk-label input.sk-toggleable__control:checked~label.sk-toggleable__label {background-color: #d4ebff;}#sk-container-id-5 input.sk-hidden--visually {border: 0;clip: rect(1px 1px 1px 1px);clip: rect(1px, 1px, 1px, 1px);height: 1px;margin: -1px;overflow: hidden;padding: 0;position: absolute;width: 1px;}#sk-container-id-5 div.sk-estimator {font-family: monospace;background-color: #f0f8ff;border: 1px dotted black;border-radius: 0.25em;box-sizing: border-box;margin-bottom: 0.5em;}#sk-container-id-5 div.sk-estimator:hover {background-color: #d4ebff;}#sk-container-id-5 div.sk-parallel-item::after {content: \"\";width: 100%;border-bottom: 1px solid gray;flex-grow: 1;}#sk-container-id-5 div.sk-label:hover label.sk-toggleable__label {background-color: #d4ebff;}#sk-container-id-5 div.sk-serial::before {content: \"\";position: absolute;border-left: 1px solid gray;box-sizing: border-box;top: 0;bottom: 0;left: 50%;z-index: 0;}#sk-container-id-5 div.sk-serial {display: flex;flex-direction: column;align-items: center;background-color: white;padding-right: 0.2em;padding-left: 0.2em;position: relative;}#sk-container-id-5 div.sk-item {position: relative;z-index: 1;}#sk-container-id-5 div.sk-parallel {display: flex;align-items: stretch;justify-content: center;background-color: white;position: relative;}#sk-container-id-5 div.sk-item::before, #sk-container-id-5 div.sk-parallel-item::before {content: \"\";position: absolute;border-left: 1px solid gray;box-sizing: border-box;top: 0;bottom: 0;left: 50%;z-index: -1;}#sk-container-id-5 div.sk-parallel-item {display: flex;flex-direction: column;z-index: 1;position: relative;background-color: white;}#sk-container-id-5 div.sk-parallel-item:first-child::after {align-self: flex-end;width: 50%;}#sk-container-id-5 div.sk-parallel-item:last-child::after {align-self: flex-start;width: 50%;}#sk-container-id-5 div.sk-parallel-item:only-child::after {width: 0;}#sk-container-id-5 div.sk-dashed-wrapped {border: 1px dashed gray;margin: 0 0.4em 0.5em 0.4em;box-sizing: border-box;padding-bottom: 0.4em;background-color: white;}#sk-container-id-5 div.sk-label label {font-family: monospace;font-weight: bold;display: inline-block;line-height: 1.2em;}#sk-container-id-5 div.sk-label-container {text-align: center;}#sk-container-id-5 div.sk-container {/* jupyter's `normalize.less` sets `[hidden] { display: none; }` but bootstrap.min.css set `[hidden] { display: none !important; }` so we also need the `!important` here to be able to override the default hidden behavior on the sphinx rendered scikit-learn.org. See: https://github.com/scikit-learn/scikit-learn/issues/21755 */display: inline-block !important;position: relative;}#sk-container-id-5 div.sk-text-repr-fallback {display: none;}</style><div id=\"sk-container-id-5\" class=\"sk-top-container\"><div class=\"sk-text-repr-fallback\"><pre>SVC(kernel=&#x27;linear&#x27;)</pre><b>In a Jupyter environment, please rerun this cell to show the HTML representation or trust the notebook. <br />On GitHub, the HTML representation is unable to render, please try loading this page with nbviewer.org.</b></div><div class=\"sk-container\" hidden><div class=\"sk-item\"><div class=\"sk-estimator sk-toggleable\"><input class=\"sk-toggleable__control sk-hidden--visually\" id=\"sk-estimator-id-9\" type=\"checkbox\" checked><label for=\"sk-estimator-id-9\" class=\"sk-toggleable__label sk-toggleable__label-arrow\">SVC</label><div class=\"sk-toggleable__content\"><pre>SVC(kernel=&#x27;linear&#x27;)</pre></div></div></div></div></div>"
            ],
            "text/plain": [
              "SVC(kernel='linear')"
            ]
          },
          "execution_count": 113,
          "metadata": {},
          "output_type": "execute_result"
        }
      ],
      "source": [
        "from sklearn.model_selection import train_test_split as tts\n",
        "# SVM = svm.SVC(C=1.0, kernel='linear', degree=3,  gamma='scale')\n",
        "\n",
        "vec = TfidfVectorizer(lowercase=True)\n",
        "X = vec.fit_transform(datasvm['text'])\n",
        "\n",
        "X_tr, X_tst, y_tr, y_tst = tts(X, labels, test_size=0.3,random_state=109)\n",
        "clf = svm.SVC(C=1.0, kernel='linear', degree=3, gamma='scale')\n",
        "clf.fit(X_tr, y_tr)\n",
        "\n"
      ]
    },
    {
      "cell_type": "code",
      "execution_count": 114,
      "metadata": {
        "colab": {
          "base_uri": "https://localhost:8080/",
          "height": 772
        },
        "id": "B1401rPDxagq",
        "outputId": "19bf0787-7756-4bbb-ceb6-5cc216245c9b"
      },
      "outputs": [
        {
          "name": "stdout",
          "output_type": "stream",
          "text": [
            "hasil sentimen neu    2\n",
            "pos    1\n",
            "Name: comp_score, dtype: int64\n",
            "\n",
            "\n",
            "hasil SVM ['pos' 'pos' 'pos']\n",
            "\n",
            "\n",
            "akurasi 33.33333333333333\n",
            "\n",
            "\n",
            "              precision    recall  f1-score   support\n",
            "\n",
            "         neu       0.00      0.00      0.00         2\n",
            "         pos       0.33      1.00      0.50         1\n",
            "\n",
            "    accuracy                           0.33         3\n",
            "   macro avg       0.17      0.50      0.25         3\n",
            "weighted avg       0.11      0.33      0.17         3\n",
            "\n"
          ]
        },
        {
          "name": "stderr",
          "output_type": "stream",
          "text": [
            "/home/reindrairawan/.local/lib/python3.10/site-packages/sklearn/metrics/_classification.py:1327: UndefinedMetricWarning: Precision and F-score are ill-defined and being set to 0.0 in labels with no predicted samples. Use `zero_division` parameter to control this behavior.\n",
            "  _warn_prf(average, modifier, msg_start, len(result))\n",
            "/home/reindrairawan/.local/lib/python3.10/site-packages/sklearn/metrics/_classification.py:1327: UndefinedMetricWarning: Precision and F-score are ill-defined and being set to 0.0 in labels with no predicted samples. Use `zero_division` parameter to control this behavior.\n",
            "  _warn_prf(average, modifier, msg_start, len(result))\n",
            "/home/reindrairawan/.local/lib/python3.10/site-packages/sklearn/metrics/_classification.py:1327: UndefinedMetricWarning: Precision and F-score are ill-defined and being set to 0.0 in labels with no predicted samples. Use `zero_division` parameter to control this behavior.\n",
            "  _warn_prf(average, modifier, msg_start, len(result))\n"
          ]
        },
        {
          "data": {
            "image/png": "[encoded data removed]",
            "text/plain": [
              "<Figure size 432x288 with 2 Axes>"
            ]
          },
          "metadata": {
            "needs_background": "light"
          },
          "output_type": "display_data"
        }
      ],
      "source": [
        "\n",
        "\n",
        "from sklearn import metrics\n",
        "import warnings\n",
        "warnings.filterwarnings('always') \n",
        "# print(\"Accuracy:\",metrics.accuracy_score(y_tst, y_pr))\n",
        "\n",
        "predict = clf.predict(X_tst)\n",
        "# print(\"hasil sentimen\", y_tst)\n",
        "print(\"hasil sentimen\", y_tst.value_counts())\n",
        "print(\"\\n\")\n",
        "print(\"hasil SVM\",predict)\n",
        "# print(\"hasil SVM\",y_pr)\n",
        "print(\"\\n\")\n",
        "print(\"akurasi\", accuracy_score(y_tst,predict)*100)\n",
        "\n",
        "akurasisvm = accuracy_score(y_tst,predict)*100\n",
        "# akurasisvm = str(akurasisvm)\n",
        "\n",
        "print(\"\\n\")\n",
        "print(classification_report(y_tst,predict))\n",
        "\n",
        "mat = confusion_matrix(y_test, y_predict)\n",
        "sns.heatmap(mat, square=True, annot=True, fmt='d', cbar=True, cmap='coolwarm', linewidths=5)\n",
        "plt.xlabel('predicted value')\n",
        "plt.ylabel('true value')\n",
        "plt.show()\n",
        "\n",
        "\n",
        "\n",
        "\n",
        "@anvil.server.callable()\n",
        "def HasilAkurasiSVM(lokasi):\n",
        "\n",
        "\n",
        "  return lokasi + str(akurasisvm)"
      ]
    },
    {
      "cell_type": "markdown",
      "metadata": {
        "id": "cYSEz87-tLqp"
      },
      "source": [
        "# Random Forest"
      ]
    },
    {
      "cell_type": "code",
      "execution_count": 116,
      "metadata": {
        "colab": {
          "base_uri": "https://localhost:8080/"
        },
        "id": "07O00zB9tonl",
        "outputId": "8db6bdc0-72b9-40e7-fdb0-b2edc547c0c4"
      },
      "outputs": [
        {
          "data": {
            "text/plain": [
              "dict_keys(['data', 'target', 'frame', 'feature_names', 'target_names', 'images', 'DESCR'])"
            ]
          },
          "execution_count": 116,
          "metadata": {},
          "output_type": "execute_result"
        }
      ],
      "source": [
        "from sklearn.datasets import load_digits\n",
        "digits = load_digits()\n",
        "digits.keys()"
      ]
    },
    {
      "cell_type": "code",
      "execution_count": 117,
      "metadata": {},
      "outputs": [
        {
          "data": {
            "text/html": [
              "<div>\n",
              "<style scoped>\n",
              "    .dataframe tbody tr th:only-of-type {\n",
              "        vertical-align: middle;\n",
              "    }\n",
              "\n",
              "    .dataframe tbody tr th {\n",
              "        vertical-align: top;\n",
              "    }\n",
              "\n",
              "    .dataframe thead th {\n",
              "        text-align: right;\n",
              "    }\n",
              "</style>\n",
              "<table border=\"1\" class=\"dataframe\">\n",
              "  <thead>\n",
              "    <tr style=\"text-align: right;\">\n",
              "      <th></th>\n",
              "      <th>Unnamed: 0</th>\n",
              "      <th>text</th>\n",
              "      <th>neg</th>\n",
              "      <th>neu</th>\n",
              "      <th>pos</th>\n",
              "      <th>compound</th>\n",
              "      <th>comp_score</th>\n",
              "    </tr>\n",
              "  </thead>\n",
              "  <tbody>\n",
              "    <tr>\n",
              "      <th>0</th>\n",
              "      <td>0</td>\n",
              "      <td>The earth is getting hotter if you always foll...</td>\n",
              "      <td>0.000</td>\n",
              "      <td>0.955</td>\n",
              "      <td>0.045</td>\n",
              "      <td>0.9776</td>\n",
              "      <td>pos</td>\n",
              "    </tr>\n",
              "    <tr>\n",
              "      <th>1</th>\n",
              "      <td>1</td>\n",
              "      <td>burn forest in northern morocco https t co cby...</td>\n",
              "      <td>0.000</td>\n",
              "      <td>1.000</td>\n",
              "      <td>0.000</td>\n",
              "      <td>0.0000</td>\n",
              "      <td>neu</td>\n",
              "    </tr>\n",
              "    <tr>\n",
              "      <th>2</th>\n",
              "      <td>2</td>\n",
              "      <td>forest fires spread in france 480 people evacu...</td>\n",
              "      <td>0.000</td>\n",
              "      <td>1.000</td>\n",
              "      <td>0.000</td>\n",
              "      <td>0.0000</td>\n",
              "      <td>neu</td>\n",
              "    </tr>\n",
              "    <tr>\n",
              "      <th>3</th>\n",
              "      <td>3</td>\n",
              "      <td>https tco jgdymoippn</td>\n",
              "      <td>0.000</td>\n",
              "      <td>1.000</td>\n",
              "      <td>0.000</td>\n",
              "      <td>0.0000</td>\n",
              "      <td>neu</td>\n",
              "    </tr>\n",
              "    <tr>\n",
              "      <th>4</th>\n",
              "      <td>4</td>\n",
              "      <td>I hope the people who belong to the sun will a...</td>\n",
              "      <td>0.000</td>\n",
              "      <td>0.903</td>\n",
              "      <td>0.097</td>\n",
              "      <td>0.4404</td>\n",
              "      <td>pos</td>\n",
              "    </tr>\n",
              "    <tr>\n",
              "      <th>5</th>\n",
              "      <td>5</td>\n",
              "      <td>This activity that took two days 13 14 07 2022...</td>\n",
              "      <td>0.000</td>\n",
              "      <td>1.000</td>\n",
              "      <td>0.000</td>\n",
              "      <td>0.0000</td>\n",
              "      <td>neu</td>\n",
              "    </tr>\n",
              "    <tr>\n",
              "      <th>6</th>\n",
              "      <td>6</td>\n",
              "      <td>klhk then directorate of forest and land fire ...</td>\n",
              "      <td>0.050</td>\n",
              "      <td>0.826</td>\n",
              "      <td>0.124</td>\n",
              "      <td>0.5574</td>\n",
              "      <td>pos</td>\n",
              "    </tr>\n",
              "    <tr>\n",
              "      <th>7</th>\n",
              "      <td>7</td>\n",
              "      <td>There are many strong indications that forest ...</td>\n",
              "      <td>0.043</td>\n",
              "      <td>0.820</td>\n",
              "      <td>0.137</td>\n",
              "      <td>0.6249</td>\n",
              "      <td>pos</td>\n",
              "    </tr>\n",
              "  </tbody>\n",
              "</table>\n",
              "</div>"
            ],
            "text/plain": [
              "   Unnamed: 0                                               text    neg  \\\n",
              "0           0  The earth is getting hotter if you always foll...  0.000   \n",
              "1           1  burn forest in northern morocco https t co cby...  0.000   \n",
              "2           2  forest fires spread in france 480 people evacu...  0.000   \n",
              "3           3                               https tco jgdymoippn  0.000   \n",
              "4           4  I hope the people who belong to the sun will a...  0.000   \n",
              "5           5  This activity that took two days 13 14 07 2022...  0.000   \n",
              "6           6  klhk then directorate of forest and land fire ...  0.050   \n",
              "7           7  There are many strong indications that forest ...  0.043   \n",
              "\n",
              "     neu    pos  compound comp_score  \n",
              "0  0.955  0.045    0.9776        pos  \n",
              "1  1.000  0.000    0.0000        neu  \n",
              "2  1.000  0.000    0.0000        neu  \n",
              "3  1.000  0.000    0.0000        neu  \n",
              "4  0.903  0.097    0.4404        pos  \n",
              "5  1.000  0.000    0.0000        neu  \n",
              "6  0.826  0.124    0.5574        pos  \n",
              "7  0.820  0.137    0.6249        pos  "
            ]
          },
          "execution_count": 117,
          "metadata": {},
          "output_type": "execute_result"
        }
      ],
      "source": [
        "data = pd.read_csv('datatrain.csv')\n",
        "data"
      ]
    },
    {
      "cell_type": "code",
      "execution_count": 118,
      "metadata": {
        "colab": {
          "base_uri": "https://localhost:8080/",
          "height": 466
        },
        "id": "nDz-kmr6trhC",
        "outputId": "c06a9a13-4399-47e4-e3be-bb62d8f29ae8"
      },
      "outputs": [
        {
          "data": {
            "image/png": "[encoded data removed]",
            "text/plain": [
              "<Figure size 432x432 with 64 Axes>"
            ]
          },
          "metadata": {},
          "output_type": "display_data"
        }
      ],
      "source": [
        "# set up the figure\n",
        "fig = plt.figure(figsize=(6, 6))  # figure size in inches\n",
        "fig.subplots_adjust(left=0, right=1, bottom=0, top=1, hspace=0.05, wspace=0.05)\n",
        "\n",
        "# plot the digits: each image is 8x8 pixels\n",
        "for i in range(64):\n",
        "    ax = fig.add_subplot(8, 8, i + 1, xticks=[], yticks=[])\n",
        "    ax.imshow(digits.images[i], cmap=plt.cm.binary, interpolation='nearest')\n",
        "    \n",
        "    # label the image with the target value\n",
        "    ax.text(0, 7, str(digits.target[i]))"
      ]
    },
    {
      "cell_type": "code",
      "execution_count": 119,
      "metadata": {
        "colab": {
          "base_uri": "https://localhost:8080/"
        },
        "id": "1OfB_xTst1Mf",
        "outputId": "9312d43c-81f4-4e2c-b3eb-66453d96d2da"
      },
      "outputs": [
        {
          "name": "stderr",
          "output_type": "stream",
          "text": [
            "/home/reindrairawan/.local/lib/python3.10/site-packages/anvil/_threaded_server.py:322: DeprecationWarning: notifyAll() is deprecated, use notify_all() instead\n",
            "  waiting_for_calls.notifyAll()\n"
          ]
        },
        {
          "data": {
            "text/plain": [
              "array(['pos', 'neu'], dtype=object)"
            ]
          },
          "execution_count": 119,
          "metadata": {},
          "output_type": "execute_result"
        }
      ],
      "source": [
        "from sklearn.ensemble import RandomForestClassifier\n",
        "from sklearn.model_selection import train_test_split\n",
        "from sklearn import preprocessing\n",
        "\n",
        "model=RandomForestClassifier(n_estimators=5, max_depth=3)\n",
        "\n",
        "y=data[\"comp_score\"]\n",
        "# encoder = LabelEncoder()\n",
        "# XX = encoder.fit_transform(x)\n",
        "# y_test = encoder.fit_transform(y_test)\n",
        "\n",
        "vec = TfidfVectorizer(lowercase=True)\n",
        "X = vec.fit_transform(data['text'])\n",
        "\n",
        "Xtrain, Xtest, ytrain, ytest = train_test_split(X, y, random_state=23,shuffle=True , stratify=y)\n",
        "# model = RandomForestClassifier(n_estimators=1000)\n",
        "# model.fit(Xtrain, ytrain)\n",
        "model.fit(Xtrain, ytrain)\n",
        "ypred = model.predict(Xtest)\n",
        "ypred"
      ]
    },
    {
      "cell_type": "code",
      "execution_count": 120,
      "metadata": {
        "colab": {
          "base_uri": "https://localhost:8080/"
        },
        "id": "-5qL0lcqt9oL",
        "outputId": "1ceb59e8-c922-4975-bb30-903effaae19a"
      },
      "outputs": [
        {
          "name": "stdout",
          "output_type": "stream",
          "text": [
            "Accuracy RFC: 0.0\n",
            "[[0 1]\n",
            " [1 0]]\n",
            "              precision    recall  f1-score   support\n",
            "\n",
            "         neu       0.00      0.00      0.00       1.0\n",
            "         pos       0.00      0.00      0.00       1.0\n",
            "\n",
            "    accuracy                           0.00       2.0\n",
            "   macro avg       0.00      0.00      0.00       2.0\n",
            "weighted avg       0.00      0.00      0.00       2.0\n",
            "\n",
            "0.0\n",
            "nilai string 0.0\n"
          ]
        }
      ],
      "source": [
        "from sklearn import metrics\n",
        "import warnings\n",
        "warnings.filterwarnings('always') \n",
        "\n",
        "print(\"Accuracy RFC:\",metrics.accuracy_score(ytest, ypred))\n",
        "print(metrics.confusion_matrix(ytest, ypred))\n",
        "print(metrics.classification_report(ypred, ytest))\n",
        "\n",
        "nilaiakurasi = metrics.accuracy_score(ytest, ypred)\n",
        "print(nilaiakurasi)\n",
        "# nilaiakurasi = str(nilaiakurasi)\n",
        "print(\"nilai string\", nilaiakurasi)\n",
        "\n",
        "\n",
        "\n",
        "@anvil.server.callable()\n",
        "def HasilAkurasiRF(lokasi):\n",
        "\n",
        "\n",
        "  return lokasi + str(nilaiakurasi)"
      ]
    },
    {
      "cell_type": "code",
      "execution_count": 121,
      "metadata": {},
      "outputs": [
        {
          "name": "stdout",
          "output_type": "stream",
          "text": [
            " * Serving Flask app '__main__' (lazy loading)\n",
            " * Environment: production\n",
            "\u001b[31m   WARNING: This is a development server. Do not use it in a production deployment.\u001b[0m\n",
            "\u001b[2m   Use a production WSGI server instead.\u001b[0m\n",
            " * Debug mode: on\n"
          ]
        },
        {
          "name": "stderr",
          "output_type": "stream",
          "text": [
            "/tmp/ipykernel_12747/1063865912.py:3: ResourceWarning: unclosed file <_io.BufferedReader name='models.pkl'>\n",
            "  model_file = open('models.pkl', 'rb')\n",
            "ResourceWarning: Enable tracemalloc to get the object allocation traceback\n",
            "/home/reindrairawan/.local/lib/python3.10/site-packages/sklearn/base.py:329: UserWarning: Trying to unpickle estimator LinearRegression from version 0.24.2 when using version 1.1.1. This might lead to breaking code or invalid results. Use at your own risk. For more info please refer to:\n",
            "https://scikit-learn.org/stable/model_persistence.html#security-maintainability-limitations\n",
            "  warnings.warn(\n",
            "Address already in use\n",
            "Port 5000 is in use by another program. Either identify and stop that program, or start the server with a different port.\n"
          ]
        },
        {
          "ename": "AssertionError",
          "evalue": "",
          "output_type": "error",
          "traceback": [
            "\u001b[0;31m---------------------------------------------------------------------------\u001b[0m",
            "\u001b[0;31mOSError\u001b[0m                                   Traceback (most recent call last)",
            "File \u001b[0;32m~/.local/lib/python3.10/site-packages/werkzeug/serving.py:908\u001b[0m, in \u001b[0;36mprepare_socket\u001b[0;34m(hostname, port)\u001b[0m\n\u001b[1;32m    907\u001b[0m \u001b[39mtry\u001b[39;00m:\n\u001b[0;32m--> 908\u001b[0m     s\u001b[39m.\u001b[39;49mbind(server_address)\n\u001b[1;32m    909\u001b[0m \u001b[39mexcept\u001b[39;00m \u001b[39mOSError\u001b[39;00m \u001b[39mas\u001b[39;00m e:\n",
            "\u001b[0;31mOSError\u001b[0m: [Errno 98] Address already in use",
            "\nDuring handling of the above exception, another exception occurred:\n",
            "\u001b[0;31mSystemExit\u001b[0m                                Traceback (most recent call last)",
            "    \u001b[0;31m[... skipping hidden 1 frame]\u001b[0m\n",
            "\u001b[1;32m/media/reindrairawan/New Volume/REPOSITORY/PYTHON/ProjectKuliah/DataScience/FinalTugasDS/Sentiment.ipynb Cell 56\u001b[0m in \u001b[0;36m<cell line: 37>\u001b[0;34m()\u001b[0m\n\u001b[1;32m     <a href='vscode-notebook-cell:/media/reindrairawan/New%20Volume/REPOSITORY/PYTHON/ProjectKuliah/DataScience/FinalTugasDS/Sentiment.ipynb#ch0000055?line=36'>37</a>\u001b[0m \u001b[39mif\u001b[39;00m \u001b[39m__name__\u001b[39m \u001b[39m==\u001b[39m \u001b[39m'\u001b[39m\u001b[39m__main__\u001b[39m\u001b[39m'\u001b[39m:\n\u001b[0;32m---> <a href='vscode-notebook-cell:/media/reindrairawan/New%20Volume/REPOSITORY/PYTHON/ProjectKuliah/DataScience/FinalTugasDS/Sentiment.ipynb#ch0000055?line=37'>38</a>\u001b[0m     app\u001b[39m.\u001b[39;49mrun(debug\u001b[39m=\u001b[39;49m\u001b[39mTrue\u001b[39;49;00m)\n",
            "File \u001b[0;32m~/.local/lib/python3.10/site-packages/flask/app.py:914\u001b[0m, in \u001b[0;36mFlask.run\u001b[0;34m(self, host, port, debug, load_dotenv, **options)\u001b[0m\n\u001b[1;32m    913\u001b[0m \u001b[39mtry\u001b[39;00m:\n\u001b[0;32m--> 914\u001b[0m     run_simple(t\u001b[39m.\u001b[39;49mcast(\u001b[39mstr\u001b[39;49m, host), port, \u001b[39mself\u001b[39;49m, \u001b[39m*\u001b[39;49m\u001b[39m*\u001b[39;49moptions)\n\u001b[1;32m    915\u001b[0m \u001b[39mfinally\u001b[39;00m:\n\u001b[1;32m    916\u001b[0m     \u001b[39m# reset the first request information if the development server\u001b[39;00m\n\u001b[1;32m    917\u001b[0m     \u001b[39m# reset normally.  This makes it possible to restart the server\u001b[39;00m\n\u001b[1;32m    918\u001b[0m     \u001b[39m# without reloader and that stuff from an interactive shell.\u001b[39;00m\n",
            "File \u001b[0;32m~/.local/lib/python3.10/site-packages/werkzeug/serving.py:1059\u001b[0m, in \u001b[0;36mrun_simple\u001b[0;34m(hostname, port, application, use_reloader, use_debugger, use_evalex, extra_files, exclude_patterns, reloader_interval, reloader_type, threaded, processes, request_handler, static_files, passthrough_errors, ssl_context)\u001b[0m\n\u001b[1;32m   1058\u001b[0m \u001b[39mif\u001b[39;00m \u001b[39mnot\u001b[39;00m is_running_from_reloader():\n\u001b[0;32m-> 1059\u001b[0m     s \u001b[39m=\u001b[39m prepare_socket(hostname, port)\n\u001b[1;32m   1060\u001b[0m     fd \u001b[39m=\u001b[39m s\u001b[39m.\u001b[39mfileno()\n",
            "File \u001b[0;32m~/.local/lib/python3.10/site-packages/werkzeug/serving.py:927\u001b[0m, in \u001b[0;36mprepare_socket\u001b[0;34m(hostname, port)\u001b[0m\n\u001b[1;32m    921\u001b[0m             \u001b[39mprint\u001b[39m(\n\u001b[1;32m    922\u001b[0m                 \u001b[39m\"\u001b[39m\u001b[39mOn macOS, try disabling the \u001b[39m\u001b[39m'\u001b[39m\u001b[39mAirPlay Receiver\u001b[39m\u001b[39m'\u001b[39m\u001b[39m\"\u001b[39m\n\u001b[1;32m    923\u001b[0m                 \u001b[39m\"\u001b[39m\u001b[39m service from System Preferences -> Sharing.\u001b[39m\u001b[39m\"\u001b[39m,\n\u001b[1;32m    924\u001b[0m                 file\u001b[39m=\u001b[39msys\u001b[39m.\u001b[39mstderr,\n\u001b[1;32m    925\u001b[0m             )\n\u001b[0;32m--> 927\u001b[0m     sys\u001b[39m.\u001b[39;49mexit(\u001b[39m1\u001b[39;49m)\n\u001b[1;32m    929\u001b[0m s\u001b[39m.\u001b[39mlisten(LISTEN_QUEUE)\n",
            "\u001b[0;31mSystemExit\u001b[0m: 1",
            "\nDuring handling of the above exception, another exception occurred:\n",
            "\u001b[0;31mAssertionError\u001b[0m                            Traceback (most recent call last)",
            "    \u001b[0;31m[... skipping hidden 1 frame]\u001b[0m\n",
            "File \u001b[0;32m~/.local/lib/python3.10/site-packages/IPython/core/interactiveshell.py:1983\u001b[0m, in \u001b[0;36mInteractiveShell.showtraceback\u001b[0;34m(self, exc_tuple, filename, tb_offset, exception_only, running_compiled_code)\u001b[0m\n\u001b[1;32m   1980\u001b[0m \u001b[39mif\u001b[39;00m exception_only:\n\u001b[1;32m   1981\u001b[0m     stb \u001b[39m=\u001b[39m [\u001b[39m'\u001b[39m\u001b[39mAn exception has occurred, use \u001b[39m\u001b[39m%\u001b[39m\u001b[39mtb to see \u001b[39m\u001b[39m'\u001b[39m\n\u001b[1;32m   1982\u001b[0m            \u001b[39m'\u001b[39m\u001b[39mthe full traceback.\u001b[39m\u001b[39m\\n\u001b[39;00m\u001b[39m'\u001b[39m]\n\u001b[0;32m-> 1983\u001b[0m     stb\u001b[39m.\u001b[39mextend(\u001b[39mself\u001b[39;49m\u001b[39m.\u001b[39;49mInteractiveTB\u001b[39m.\u001b[39;49mget_exception_only(etype,\n\u001b[1;32m   1984\u001b[0m                                                      value))\n\u001b[1;32m   1985\u001b[0m \u001b[39melse\u001b[39;00m:\n\u001b[1;32m   1986\u001b[0m     \u001b[39mtry\u001b[39;00m:\n\u001b[1;32m   1987\u001b[0m         \u001b[39m# Exception classes can customise their traceback - we\u001b[39;00m\n\u001b[1;32m   1988\u001b[0m         \u001b[39m# use this in IPython.parallel for exceptions occurring\u001b[39;00m\n\u001b[1;32m   1989\u001b[0m         \u001b[39m# in the engines. This should return a list of strings.\u001b[39;00m\n",
            "File \u001b[0;32m~/.local/lib/python3.10/site-packages/IPython/core/ultratb.py:585\u001b[0m, in \u001b[0;36mListTB.get_exception_only\u001b[0;34m(self, etype, value)\u001b[0m\n\u001b[1;32m    577\u001b[0m \u001b[39mdef\u001b[39;00m \u001b[39mget_exception_only\u001b[39m(\u001b[39mself\u001b[39m, etype, value):\n\u001b[1;32m    578\u001b[0m     \u001b[39m\"\"\"Only print the exception type and message, without a traceback.\u001b[39;00m\n\u001b[1;32m    579\u001b[0m \n\u001b[1;32m    580\u001b[0m \u001b[39m    Parameters\u001b[39;00m\n\u001b[0;32m   (...)\u001b[0m\n\u001b[1;32m    583\u001b[0m \u001b[39m    value : exception value\u001b[39;00m\n\u001b[1;32m    584\u001b[0m \u001b[39m    \"\"\"\u001b[39;00m\n\u001b[0;32m--> 585\u001b[0m     \u001b[39mreturn\u001b[39;00m ListTB\u001b[39m.\u001b[39;49mstructured_traceback(\u001b[39mself\u001b[39;49m, etype, value)\n",
            "File \u001b[0;32m~/.local/lib/python3.10/site-packages/IPython/core/ultratb.py:443\u001b[0m, in \u001b[0;36mListTB.structured_traceback\u001b[0;34m(self, etype, evalue, etb, tb_offset, context)\u001b[0m\n\u001b[1;32m    440\u001b[0m     chained_exc_ids\u001b[39m.\u001b[39madd(\u001b[39mid\u001b[39m(exception[\u001b[39m1\u001b[39m]))\n\u001b[1;32m    441\u001b[0m     chained_exceptions_tb_offset \u001b[39m=\u001b[39m \u001b[39m0\u001b[39m\n\u001b[1;32m    442\u001b[0m     out_list \u001b[39m=\u001b[39m (\n\u001b[0;32m--> 443\u001b[0m         \u001b[39mself\u001b[39;49m\u001b[39m.\u001b[39;49mstructured_traceback(\n\u001b[1;32m    444\u001b[0m             etype, evalue, (etb, chained_exc_ids),\n\u001b[1;32m    445\u001b[0m             chained_exceptions_tb_offset, context)\n\u001b[1;32m    446\u001b[0m         \u001b[39m+\u001b[39m chained_exception_message\n\u001b[1;32m    447\u001b[0m         \u001b[39m+\u001b[39m out_list)\n\u001b[1;32m    449\u001b[0m \u001b[39mreturn\u001b[39;00m out_list\n",
            "File \u001b[0;32m~/.local/lib/python3.10/site-packages/IPython/core/ultratb.py:1118\u001b[0m, in \u001b[0;36mAutoFormattedTB.structured_traceback\u001b[0;34m(self, etype, value, tb, tb_offset, number_of_lines_of_context)\u001b[0m\n\u001b[1;32m   1116\u001b[0m \u001b[39melse\u001b[39;00m:\n\u001b[1;32m   1117\u001b[0m     \u001b[39mself\u001b[39m\u001b[39m.\u001b[39mtb \u001b[39m=\u001b[39m tb\n\u001b[0;32m-> 1118\u001b[0m \u001b[39mreturn\u001b[39;00m FormattedTB\u001b[39m.\u001b[39;49mstructured_traceback(\n\u001b[1;32m   1119\u001b[0m     \u001b[39mself\u001b[39;49m, etype, value, tb, tb_offset, number_of_lines_of_context)\n",
            "File \u001b[0;32m~/.local/lib/python3.10/site-packages/IPython/core/ultratb.py:1012\u001b[0m, in \u001b[0;36mFormattedTB.structured_traceback\u001b[0;34m(self, etype, value, tb, tb_offset, number_of_lines_of_context)\u001b[0m\n\u001b[1;32m   1009\u001b[0m mode \u001b[39m=\u001b[39m \u001b[39mself\u001b[39m\u001b[39m.\u001b[39mmode\n\u001b[1;32m   1010\u001b[0m \u001b[39mif\u001b[39;00m mode \u001b[39min\u001b[39;00m \u001b[39mself\u001b[39m\u001b[39m.\u001b[39mverbose_modes:\n\u001b[1;32m   1011\u001b[0m     \u001b[39m# Verbose modes need a full traceback\u001b[39;00m\n\u001b[0;32m-> 1012\u001b[0m     \u001b[39mreturn\u001b[39;00m VerboseTB\u001b[39m.\u001b[39;49mstructured_traceback(\n\u001b[1;32m   1013\u001b[0m         \u001b[39mself\u001b[39;49m, etype, value, tb, tb_offset, number_of_lines_of_context\n\u001b[1;32m   1014\u001b[0m     )\n\u001b[1;32m   1015\u001b[0m \u001b[39melif\u001b[39;00m mode \u001b[39m==\u001b[39m \u001b[39m'\u001b[39m\u001b[39mMinimal\u001b[39m\u001b[39m'\u001b[39m:\n\u001b[1;32m   1016\u001b[0m     \u001b[39mreturn\u001b[39;00m ListTB\u001b[39m.\u001b[39mget_exception_only(\u001b[39mself\u001b[39m, etype, value)\n",
            "File \u001b[0;32m~/.local/lib/python3.10/site-packages/IPython/core/ultratb.py:865\u001b[0m, in \u001b[0;36mVerboseTB.structured_traceback\u001b[0;34m(self, etype, evalue, etb, tb_offset, number_of_lines_of_context)\u001b[0m\n\u001b[1;32m    856\u001b[0m \u001b[39mdef\u001b[39;00m \u001b[39mstructured_traceback\u001b[39m(\n\u001b[1;32m    857\u001b[0m     \u001b[39mself\u001b[39m,\n\u001b[1;32m    858\u001b[0m     etype: \u001b[39mtype\u001b[39m,\n\u001b[0;32m   (...)\u001b[0m\n\u001b[1;32m    862\u001b[0m     number_of_lines_of_context: \u001b[39mint\u001b[39m \u001b[39m=\u001b[39m \u001b[39m5\u001b[39m,\n\u001b[1;32m    863\u001b[0m ):\n\u001b[1;32m    864\u001b[0m     \u001b[39m\"\"\"Return a nice text document describing the traceback.\"\"\"\u001b[39;00m\n\u001b[0;32m--> 865\u001b[0m     formatted_exception \u001b[39m=\u001b[39m \u001b[39mself\u001b[39;49m\u001b[39m.\u001b[39;49mformat_exception_as_a_whole(etype, evalue, etb, number_of_lines_of_context,\n\u001b[1;32m    866\u001b[0m                                                            tb_offset)\n\u001b[1;32m    868\u001b[0m     colors \u001b[39m=\u001b[39m \u001b[39mself\u001b[39m\u001b[39m.\u001b[39mColors  \u001b[39m# just a shorthand + quicker name lookup\u001b[39;00m\n\u001b[1;32m    869\u001b[0m     colorsnormal \u001b[39m=\u001b[39m colors\u001b[39m.\u001b[39mNormal  \u001b[39m# used a lot\u001b[39;00m\n",
            "File \u001b[0;32m~/.local/lib/python3.10/site-packages/IPython/core/ultratb.py:799\u001b[0m, in \u001b[0;36mVerboseTB.format_exception_as_a_whole\u001b[0;34m(self, etype, evalue, etb, number_of_lines_of_context, tb_offset)\u001b[0m\n\u001b[1;32m    796\u001b[0m \u001b[39massert\u001b[39;00m \u001b[39misinstance\u001b[39m(tb_offset, \u001b[39mint\u001b[39m)\n\u001b[1;32m    797\u001b[0m head \u001b[39m=\u001b[39m \u001b[39mself\u001b[39m\u001b[39m.\u001b[39mprepare_header(etype, \u001b[39mself\u001b[39m\u001b[39m.\u001b[39mlong_header)\n\u001b[1;32m    798\u001b[0m records \u001b[39m=\u001b[39m (\n\u001b[0;32m--> 799\u001b[0m     \u001b[39mself\u001b[39;49m\u001b[39m.\u001b[39;49mget_records(etb, number_of_lines_of_context, tb_offset) \u001b[39mif\u001b[39;00m etb \u001b[39melse\u001b[39;00m []\n\u001b[1;32m    800\u001b[0m )\n\u001b[1;32m    802\u001b[0m frames \u001b[39m=\u001b[39m []\n\u001b[1;32m    803\u001b[0m skipped \u001b[39m=\u001b[39m \u001b[39m0\u001b[39m\n",
            "File \u001b[0;32m~/.local/lib/python3.10/site-packages/IPython/core/ultratb.py:854\u001b[0m, in \u001b[0;36mVerboseTB.get_records\u001b[0;34m(self, etb, number_of_lines_of_context, tb_offset)\u001b[0m\n\u001b[1;32m    848\u001b[0m     formatter \u001b[39m=\u001b[39m \u001b[39mNone\u001b[39;00m\n\u001b[1;32m    849\u001b[0m options \u001b[39m=\u001b[39m stack_data\u001b[39m.\u001b[39mOptions(\n\u001b[1;32m    850\u001b[0m     before\u001b[39m=\u001b[39mbefore,\n\u001b[1;32m    851\u001b[0m     after\u001b[39m=\u001b[39mafter,\n\u001b[1;32m    852\u001b[0m     pygments_formatter\u001b[39m=\u001b[39mformatter,\n\u001b[1;32m    853\u001b[0m )\n\u001b[0;32m--> 854\u001b[0m \u001b[39mreturn\u001b[39;00m \u001b[39mlist\u001b[39;49m(stack_data\u001b[39m.\u001b[39;49mFrameInfo\u001b[39m.\u001b[39;49mstack_data(etb, options\u001b[39m=\u001b[39;49moptions))[tb_offset:]\n",
            "File \u001b[0;32m~/.local/lib/python3.10/site-packages/stack_data/core.py:546\u001b[0m, in \u001b[0;36mFrameInfo.stack_data\u001b[0;34m(cls, frame_or_tb, options, collapse_repeated_frames)\u001b[0m\n\u001b[1;32m    530\u001b[0m \u001b[39m@classmethod\u001b[39m\n\u001b[1;32m    531\u001b[0m \u001b[39mdef\u001b[39;00m \u001b[39mstack_data\u001b[39m(\n\u001b[1;32m    532\u001b[0m         \u001b[39mcls\u001b[39m,\n\u001b[0;32m   (...)\u001b[0m\n\u001b[1;32m    536\u001b[0m         collapse_repeated_frames: \u001b[39mbool\u001b[39m \u001b[39m=\u001b[39m \u001b[39mTrue\u001b[39;00m\n\u001b[1;32m    537\u001b[0m ) \u001b[39m-\u001b[39m\u001b[39m>\u001b[39m Iterator[Union[\u001b[39m'\u001b[39m\u001b[39mFrameInfo\u001b[39m\u001b[39m'\u001b[39m, RepeatedFrames]]:\n\u001b[1;32m    538\u001b[0m     \u001b[39m\"\"\"\u001b[39;00m\n\u001b[1;32m    539\u001b[0m \u001b[39m    An iterator of FrameInfo and RepeatedFrames objects representing\u001b[39;00m\n\u001b[1;32m    540\u001b[0m \u001b[39m    a full traceback or stack. Similar consecutive frames are collapsed into RepeatedFrames\u001b[39;00m\n\u001b[0;32m   (...)\u001b[0m\n\u001b[1;32m    544\u001b[0m \u001b[39m    and optionally an Options object to configure.\u001b[39;00m\n\u001b[1;32m    545\u001b[0m \u001b[39m    \"\"\"\u001b[39;00m\n\u001b[0;32m--> 546\u001b[0m     stack \u001b[39m=\u001b[39m \u001b[39mlist\u001b[39;49m(iter_stack(frame_or_tb))\n\u001b[1;32m    548\u001b[0m     \u001b[39m# Reverse the stack from a frame so that it's in the same order\u001b[39;00m\n\u001b[1;32m    549\u001b[0m     \u001b[39m# as the order from a traceback, which is the order of a printed\u001b[39;00m\n\u001b[1;32m    550\u001b[0m     \u001b[39m# traceback when read top to bottom (most recent call last)\u001b[39;00m\n\u001b[1;32m    551\u001b[0m     \u001b[39mif\u001b[39;00m is_frame(frame_or_tb):\n",
            "File \u001b[0;32m~/.local/lib/python3.10/site-packages/stack_data/utils.py:98\u001b[0m, in \u001b[0;36miter_stack\u001b[0;34m(frame_or_tb)\u001b[0m\n\u001b[1;32m     96\u001b[0m \u001b[39mwhile\u001b[39;00m frame_or_tb:\n\u001b[1;32m     97\u001b[0m     \u001b[39myield\u001b[39;00m frame_or_tb\n\u001b[0;32m---> 98\u001b[0m     \u001b[39mif\u001b[39;00m is_frame(frame_or_tb):\n\u001b[1;32m     99\u001b[0m         frame_or_tb \u001b[39m=\u001b[39m frame_or_tb\u001b[39m.\u001b[39mf_back\n\u001b[1;32m    100\u001b[0m     \u001b[39melse\u001b[39;00m:\n",
            "File \u001b[0;32m~/.local/lib/python3.10/site-packages/stack_data/utils.py:91\u001b[0m, in \u001b[0;36mis_frame\u001b[0;34m(frame_or_tb)\u001b[0m\n\u001b[1;32m     90\u001b[0m \u001b[39mdef\u001b[39;00m \u001b[39mis_frame\u001b[39m(frame_or_tb: Union[FrameType, TracebackType]) \u001b[39m-\u001b[39m\u001b[39m>\u001b[39m \u001b[39mbool\u001b[39m:\n\u001b[0;32m---> 91\u001b[0m     assert_(\u001b[39misinstance\u001b[39;49m(frame_or_tb, (types\u001b[39m.\u001b[39;49mFrameType, types\u001b[39m.\u001b[39;49mTracebackType)))\n\u001b[1;32m     92\u001b[0m     \u001b[39mreturn\u001b[39;00m \u001b[39misinstance\u001b[39m(frame_or_tb, (types\u001b[39m.\u001b[39mFrameType,))\n",
            "File \u001b[0;32m~/.local/lib/python3.10/site-packages/stack_data/utils.py:172\u001b[0m, in \u001b[0;36massert_\u001b[0;34m(condition, error)\u001b[0m\n\u001b[1;32m    170\u001b[0m \u001b[39mif\u001b[39;00m \u001b[39misinstance\u001b[39m(error, \u001b[39mstr\u001b[39m):\n\u001b[1;32m    171\u001b[0m     error \u001b[39m=\u001b[39m \u001b[39mAssertionError\u001b[39;00m(error)\n\u001b[0;32m--> 172\u001b[0m \u001b[39mraise\u001b[39;00m error\n",
            "\u001b[0;31mAssertionError\u001b[0m: "
          ]
        }
      ],
      "source": [
        "app = Flask(__name__)\n",
        "\n",
        "model_file = open('models.pkl', 'rb')\n",
        "model = pickle.load(model_file, encoding='bytes')\n",
        "\n",
        "@app.route('/')\n",
        "def index():\n",
        "    return render_template('index.html', insurance_cost=0)\n",
        "\n",
        "@app.route('/predict', methods=['POST'])\n",
        "def predict():\n",
        "    '''\n",
        "    Predict the insurance cost based on user inputs\n",
        "    and render the result to the html page\n",
        "    '''\n",
        "    age, sex, smoker = [x for x in request.form.values()]\n",
        "\n",
        "    data = []\n",
        "\n",
        "    data.append(int(age))\n",
        "    if sex == 'Laki-laki':\n",
        "        data.extend([0, 1])\n",
        "    else:\n",
        "        data.extend([1, 0])\n",
        "\n",
        "    if smoker == 'Ya':\n",
        "        data.extend([0, 1])\n",
        "    else:\n",
        "        data.extend([1, 0])\n",
        "    \n",
        "    prediction = model.predict([data])\n",
        "    output = round(prediction[0], 2)\n",
        "\n",
        "    return render_template('index.html', insurance_cost=output, age=age, sex=sex, smoker=smoker)\n",
        "\n",
        "\n",
        "if __name__ == '__main__':\n",
        "    app.run(debug=True)"
      ]
    },
    {
      "cell_type": "code",
      "execution_count": null,
      "metadata": {},
      "outputs": [],
      "source": []
    }
  ],
  "metadata": {
    "colab": {
      "collapsed_sections": [],
      "name": "Final Project DS (Sentiment Analisis Kebakaran Hutan).ipynb",
      "provenance": []
    },
    "kernelspec": {
      "display_name": "Python 3.10.4 ('local': virtualenv)",
      "language": "python",
      "name": "python3"
    },
    "language_info": {
      "codemirror_mode": {
        "name": "ipython",
        "version": 3
      },
      "file_extension": ".py",
      "mimetype": "text/x-python",
      "name": "python",
      "nbconvert_exporter": "python",
      "pygments_lexer": "ipython3",
      "version": "3.10.4"
    },
    "vscode": {
      "interpreter": {
        "hash": "515bc1aaadf7b0fdec75fc08d5045e9ca9b8e77f16a214b4ae9eed2800b62e59"
      }
    }
  },
  "nbformat": 4,
  "nbformat_minor": 0
}
